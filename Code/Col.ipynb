{
 "cells": [
  {
   "cell_type": "code",
   "execution_count": 17,
   "metadata": {},
   "outputs": [
    {
     "name": "stdout",
     "output_type": "stream",
     "text": [
      "[('Count', 'VERB'), ('the', 'DET'), ('number', 'NOUN'), ('of', 'ADP'), ('authors', 'NOUN'), ('who', 'PRON'), ('have', 'AUX'), ('published', 'VERB'), ('under', 'ADP'), ('the', 'DET'), ('topic', 'NOUN'), (\"'\", 'PUNCT'), ('Lexical', 'PROPN'), ('Acquisition', 'PROPN'), (\"'\", 'PUNCT'), ('?', 'PUNCT')]\n"
     ]
    },
    {
     "data": {
      "text/plain": [
       "['Topic', 'AuthID', 'Name', 'AffiliationID']"
      ]
     },
     "execution_count": 17,
     "metadata": {},
     "output_type": "execute_result"
    }
   ],
   "source": [
    "import pandas as pd\n",
    "import spacy\n",
    "import difflib\n",
    "from spacy import displacy\n",
    "from difflib import get_close_matches\n",
    "df=pd.read_csv(\"/Users/prakash/Desktop/natural-to-sql/Final_Processed/Augmented_Non_Complex.csv\")\n",
    "l=df.values.tolist()\n",
    "def give_column(sen_without_ne):#column_names=['Place','Affiliate','AffiliationID','AuthID','FieldID','Name','ConfID','PaperID','Venue','Year','Topic','KeywordID','Summary','Title']\n",
    "    column_names=['Place','Affiliate','AffiliationID','AuthID','FieldID','Name','ConfID','PaperID','Venue','Year','Topic','KeywordID','Summary','Title']\n",
    "    lower_column_names=[]\n",
    "    for i in column_names:\n",
    "        lower_column_names.append(i.lower())\n",
    "    nlp = spacy.load(\"en_core_web_sm\")\n",
    "    doc=nlp(sen_without_ne)\n",
    "    l=[token.text for token in doc if (token.pos_ == \"NOUN\" or token.pos_==\"PROPN\")]\n",
    "    l1=[(token.text,token.pos_) for token in doc]\n",
    "    print(l1)\n",
    "    a=[]\n",
    "    x=[]\n",
    "    for i in l:\n",
    "        x=get_close_matches(i.lower(), lower_column_names,n=1,cutoff=0.55)\n",
    "        if not x==[]:\n",
    "            for j in range(len(lower_column_names)):\n",
    "                if lower_column_names[j]==x[0]:\n",
    "                    a.append([column_names[j],difflib.SequenceMatcher(None, i, lower_column_names[j]).ratio()])\n",
    "                    break\n",
    "                else:\n",
    "                    continue\n",
    "        # else:\n",
    "        #     print('error')\n",
    "    return [ele[0] for ele in sorted(a,key=lambda x:x[1],reverse=1)]\n",
    "# print(df['Natural'][10])\n",
    "give_column(\"Count the number of authors who have published under the topic 'Lexical Acquisition'?\")"
   ]
  },
  {
   "cell_type": "code",
   "execution_count": null,
   "metadata": {},
   "outputs": [],
   "source": []
  }
 ],
 "metadata": {
  "kernelspec": {
   "display_name": "Python 3",
   "language": "python",
   "name": "python3"
  },
  "language_info": {
   "codemirror_mode": {
    "name": "ipython",
    "version": 3
   },
   "file_extension": ".py",
   "mimetype": "text/x-python",
   "name": "python",
   "nbconvert_exporter": "python",
   "pygments_lexer": "ipython3",
   "version": "3.7.4"
  }
 },
 "nbformat": 4,
 "nbformat_minor": 2
}
