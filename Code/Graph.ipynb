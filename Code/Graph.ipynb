{
 "cells": [
  {
   "cell_type": "code",
   "execution_count": 2,
   "metadata": {},
   "outputs": [],
   "source": [
    "from collections import defaultdict\n",
    "dict_encoding = {\"AffiliationID_Place_Affiliation\":0,\n",
    "                  \"AuthID_AffiliationID\":1, \n",
    "                  \"AuthID_FieldID\":2, \n",
    "                  \"AuthID_Name\":3,\n",
    "                  \"ConfID_FieldID\":4,\n",
    "                  \"ConfID_PaperID\":5,\n",
    "                  \"ConfID_Venue_Year\":6,\n",
    "                  \"FieldID_Topic\":7,\n",
    "                  \"KeywordID_PaperID\":8,\n",
    "                  \"PaperID_AuthID\":9,\n",
    "                  \"PaperID_FieldID\":10,\n",
    "                  \"PaperID_Summary\":11,\n",
    "                  \"PaperID_Title\":12} \n"
   ]
  },
  {
   "cell_type": "code",
   "execution_count": 3,
   "metadata": {},
   "outputs": [
    {
     "name": "stdout",
     "output_type": "stream",
     "text": [
      "defaultdict(<class 'list'>, {0: ['AffiliationID_Place_Affiliation', 'AffiliationID', 'Place', 'Affiliation'], 1: ['AuthID_AffiliationID', 'AuthID', 'AffiliationID'], 2: ['AuthID_FieldID', 'AuthID', 'FieldID'], 3: ['AuthID_Name', 'AuthID', 'Name'], 4: ['ConfID_FieldID', 'ConfID', 'FieldID'], 5: ['ConfID_PaperID', 'ConfID', 'PaperID'], 6: ['ConfID_Venue_Year', 'ConfID', 'Venue', 'Year'], 7: ['FieldID_Topic', 'FieldID', 'Topic'], 8: ['KeywordID_PaperID', 'KeywordID', 'PaperID'], 9: ['PaperID_AuthID', 'PaperID', 'AuthID'], 10: ['PaperID_FieldID', 'PaperID', 'FieldID'], 11: ['PaperID_Summary', 'PaperID', 'Summary'], 12: ['PaperID_Title', 'PaperID', 'Title']})\n"
     ]
    }
   ],
   "source": [
    "main_dict = defaultdict(list)\n",
    "for i in dict_encoding:\n",
    "    main_dict[dict_encoding[i]].append(i)#First Element is Table Name\n",
    "    main_dict[dict_encoding[i]]+= i.split(\"_\")#rest of the elements are columns\n",
    "print(main_dict)"
   ]
  },
  {
   "cell_type": "code",
   "execution_count": 4,
   "metadata": {},
   "outputs": [],
   "source": [
    "from collections import defaultdict\n",
    "import queue\n",
    "\n",
    "class Graph:\n",
    "\tdef __init__(self,vertices):\n",
    "\t\tself.graph = defaultdict(list)\n",
    "\t\tself.v = vertices\n",
    "\tdef addedge(self,a,b):\n",
    "\t\tself.graph[a].append(b)\n",
    "\t\tself.graph[b].append(a)\n",
    "\n",
    "\tdef printgraph(self):\n",
    "\t\tfor k in self.graph:\n",
    "\t\t\tprint(k, self.graph[k])\n",
    "\tdef cleangraph(self):\n",
    "\t\tfor k in self.graph:\n",
    "\t\t\tself.graph[k] = list(set(self.graph[k]))        \n",
    "\tdef distance(self,u,v):\n",
    "\t\tvisited = [0] * self.v\n",
    "\n",
    "\t\t# Initialize distances as 0  \n",
    "\t\tdistance = [0] * self.v \n",
    "\n",
    "\t\t# queue to do BFS.  \n",
    "\t\tQ = queue.Queue() \n",
    "\t\tdistance[u] = 0\n",
    "\t\tparent = [-1]*self.v\n",
    "\t\tparent[u] = u\n",
    "\t\tarra = [] \n",
    "\t\tQ.put(u)  \n",
    "\t\tvisited[u] = True\n",
    "\t\twhile (not Q.empty()): \n",
    "\t\t\tx = Q.get()\n",
    "\n",
    "\t\t      \n",
    "\t\t\tfor i in range(len(self.graph[x])): \n",
    "\t\t\t\tif (visited[self.graph[x][i]]): \n",
    "\t\t\t\t\tcontinue\n",
    "\n",
    "\t\t\t\tparent[self.graph[x][i]] = x\n",
    "\t\t\t\tdistance[self.graph[x][i]] = distance[x] + 1\n",
    "\t\t\t\tQ.put(self.graph[x][i])  \n",
    "\t\t\t\tvisited[self.graph[x][i]] = 1\n",
    "\t\tp = v\n",
    "\t\tarra.append(v)\n",
    "\t\twhile p!=u:\n",
    "\t\t\tarra.append(parent[p])\n",
    "\t\t\tp = parent[p]\n",
    "\t\t\t#print(p)\n",
    "\t\t#arra.append(u)\n",
    "\t\treturn distance[v],arra[::-1] \n",
    "\n"
   ]
  },
  {
   "cell_type": "code",
   "execution_count": 5,
   "metadata": {},
   "outputs": [],
   "source": [
    "def creategraph(maindict,graph):\n",
    "    for i in maindict:\n",
    "        for j in maindict:\n",
    "            if (i!=j):\n",
    "                if set(maindict[i]) & set(maindict[j]) :\n",
    "                    graph.addedge(i,j)\n",
    "\n",
    "                    \n",
    "            "
   ]
  },
  {
   "cell_type": "code",
   "execution_count": 6,
   "metadata": {},
   "outputs": [],
   "source": [
    "def min_path_column(graph,start,end):\n",
    "    start_array = []\n",
    "    end_array = []\n",
    "    minimum = 500\n",
    "    path = []\n",
    "    \n",
    "    for key in main_dict.keys():\n",
    "        if start in main_dict[key]:\n",
    "            start_array.append(key)\n",
    "        if end in main_dict[key]:\n",
    "            end_array.append(key)\n",
    "    for i in start_array:\n",
    "        for j in end_array:\n",
    "            if graph.distance(i,j)[0]<minimum:\n",
    "                minimum = graph.distance(i,j)[0]\n",
    "                path = graph.distance(i,j)[1]\n",
    "    return path"
   ]
  },
  {
   "cell_type": "code",
   "execution_count": 16,
   "metadata": {},
   "outputs": [],
   "source": [
    "def make_join_query(path):\n",
    "    print(path)\n",
    "    string = \"FROM \"\n",
    "    first_table = main_dict[path[0]][0]\n",
    "    last_table = main_dict[path[-1]][0]\n",
    "    \n",
    "    if len(path)==1:\n",
    "        string+= main_dict[path[0]][0]\n",
    "    for i in range(len(path)-1):\n",
    "        first = path[i]\n",
    "        second = path[i+1]\n",
    "        #extract common column\n",
    "        common = None\n",
    "        for c1 in main_dict[first]:\n",
    "            for c2 in main_dict[second]:\n",
    "                if c1==c2:\n",
    "                    common = c1\n",
    "        string += main_dict[first][0]\n",
    "        string += \" JOIN \"\n",
    "        string += main_dict[second][0]\n",
    "        string += \" ON \"\n",
    "        string += main_dict[first][0] + '.'+ common + \"=\" + main_dict[second][0]+ '.'+ common + ' '\n",
    "    return string,first_table,last_table\n",
    "\n",
    "def printpath(path):\n",
    "    for i in (path):\n",
    "        print(main_dict[i][0],end=\" \")\n",
    "def from_query(start,end):\n",
    "    graph = Graph(len(main_dict))\n",
    "    creategraph(main_dict,graph)\n",
    "    graph.cleangraph()\n",
    "    #graph.printgraph()\n",
    "    path = min_path_column(graph,start,end)\n",
    "    #print(\"Path is: \",end = \"\")\n",
    "    #printpath(path)\n",
    "    #print(\"\")\n",
    "    query,first_table,last_table = make_join_query(path)\n",
    "    #print(query)\n",
    "    return query,first_table,last_table\n",
    "    "
   ]
  },
  {
   "cell_type": "code",
   "execution_count": 8,
   "metadata": {},
   "outputs": [],
   "source": [
    "\n",
    "#graph.distance(1,11)\n",
    "#path = min_path_column(graph,\"Title\",\"Year\")\n",
    "\n",
    "#print(\"path\",path)\n",
    "#printpath(path)\n",
    "\n",
    "#make_join_query(path)"
   ]
  },
  {
   "cell_type": "code",
   "execution_count": 17,
   "metadata": {},
   "outputs": [
    {
     "name": "stdout",
     "output_type": "stream",
     "text": [
      "[12, 5, 6]\n",
      "Query =  FROM PaperID_Title JOIN ConfID_PaperID ON PaperID_Title.PaperID=ConfID_PaperID.PaperID ConfID_PaperID JOIN ConfID_Venue_Year ON ConfID_PaperID.ConfID=ConfID_Venue_Year.ConfID   \n",
      " first_table =  PaperID_Title  \n",
      " last_table =  ConfID_Venue_Year\n"
     ]
    }
   ],
   "source": [
    "query,first_table,last_table = from_query(\"Title\",\"Year\")\n",
    "print(\"Query = \", query,\" \\n first_table = \",first_table, \" \\n last_table = \",last_table)"
   ]
  }
 ],
 "metadata": {
  "kernelspec": {
   "display_name": "Python 3",
   "language": "python",
   "name": "python3"
  },
  "language_info": {
   "codemirror_mode": {
    "name": "ipython",
    "version": 3
   },
   "file_extension": ".py",
   "mimetype": "text/x-python",
   "name": "python",
   "nbconvert_exporter": "python",
   "pygments_lexer": "ipython3",
   "version": "3.7.3"
  }
 },
 "nbformat": 4,
 "nbformat_minor": 2
}
