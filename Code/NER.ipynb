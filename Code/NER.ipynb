{
 "cells": [
  {
   "cell_type": "code",
   "execution_count": 13,
   "metadata": {},
   "outputs": [],
   "source": [
    "import numpy as np\n",
    "from sklearn.model_selection import train_test_split\n",
    "import pandas as pd\n",
    "import string\n",
    "import re\n",
    "# from bert_serving.client import BertClient\n",
    "# bc = BertClient()\n",
    "Data_Final=pd.read_csv(\"/Users/prakash/Desktop/natural-to-sql/Final_Processed/Augmented.csv\")\n",
    "arr=[\"AffiliationID_Place_Affiliation.csv\",\"AuthID_AffiliationID.csv\",\"AuthID_FieldID.csv\",\"AuthID_Name.csv\"\n",
    "     ,\"ConfID_FieldID.csv\",\"ConfID_PaperID.csv\",\"ConfID_Venue_Year.csv\",\"FieldID_Topic.csv\",\"KeywordID_PaperID.csv\"\n",
    "     ,\"PaperID_AuthID.csv\",\"PaperID_FieldID.csv\",\"PaperID_Summary.csv\",\"PaperID_Title.csv\"]\n",
    "maping={}\n",
    "table={}\n",
    "for i in range(13):\n",
    "    data=pd.read_csv(\"/Users/prakash/Desktop/natural-to-sql/Dataset/\"+arr[i])\n",
    "    table[arr[i]]=data.columns\n",
    "    for val in data.columns:\n",
    "        if(val in maping):\n",
    "            maping[val]=list(set(data[val]).intersection(set(maping[val])))\n",
    "        else:\n",
    "            maping[val]=list(set(data[val]))\n",
    "    maping['NUM']=[str(i) for i in range(3000)]"
   ]
  },
  {
   "cell_type": "code",
   "execution_count": 40,
   "metadata": {},
   "outputs": [],
   "source": [
    "def NER(natural):\n",
    "    token=re.split('[,.?\\'\\'\\\" ]', natural)\n",
    "#     print(token)\n",
    "    colname_identity=[]\n",
    "    for ele in token:\n",
    "        for key in maping:\n",
    "            for value in maping[key]:\n",
    "                if(ele==value):\n",
    "                    colname_identity.append([key,ele])\n",
    "    return colname_identity"
   ]
  },
  {
   "cell_type": "code",
   "execution_count": 41,
   "metadata": {},
   "outputs": [
    {
     "name": "stdout",
     "output_type": "stream",
     "text": [
      "161                             Give all the authors IDs\n",
      "162    Give all the papers which are written by autho...\n",
      "163         Display all the papers written by 'A-15426'?\n",
      "164       Count the papers written by Author ID 'A-2382'\n",
      "165    List all the authors who contributed to paper ...\n",
      "166    Count the number authors who contributed to pa...\n",
      "167               Display all the authors for 'P13-3004'\n",
      "168    Give the number of Authors of Paper ID 'N13-1010'\n",
      "169            Display all the papers with FieldID 'F-9'\n",
      "Name: Natural, dtype: object\n"
     ]
    },
    {
     "data": {
      "text/plain": [
       "[[],\n",
       " [['AuthID', 'A-13751']],\n",
       " [['AuthID', 'A-15426']],\n",
       " [['AuthID', 'A-2382']],\n",
       " [['PaperID', 'W05-0106']],\n",
       " [['PaperID', 'W01-1305']],\n",
       " [['PaperID', 'P13-3004']],\n",
       " [['PaperID', 'N13-1010']],\n",
       " [['FieldID', 'F-9']]]"
      ]
     },
     "execution_count": 41,
     "metadata": {},
     "output_type": "execute_result"
    }
   ],
   "source": [
    "print(Data_Final['Natural'][161:170])\n",
    "list(map(NER,Data_Final['Natural'][161:170]))"
   ]
  },
  {
   "cell_type": "code",
   "execution_count": null,
   "metadata": {},
   "outputs": [],
   "source": []
  }
 ],
 "metadata": {
  "kernelspec": {
   "display_name": "Python 3",
   "language": "python",
   "name": "python3"
  }
 },
 "nbformat": 4,
 "nbformat_minor": 2
}
