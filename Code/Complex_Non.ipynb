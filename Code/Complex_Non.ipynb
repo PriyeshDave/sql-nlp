{
 "cells": [
  {
   "cell_type": "code",
   "execution_count": 14,
   "metadata": {},
   "outputs": [],
   "source": [
    "import pandas as pd\n",
    "Data_Final=pd.read_csv(\"/Users/prakash/Desktop/natural-to-sql/Dataset/NLP_Dataset - Final.csv\")\n",
    "sql=list(Data_Final['SQL'][:])\n",
    "complex_=[]\n",
    "noncomplex=[i for i in range(len(sql))]\n",
    "for i in range(len(sql)):\n",
    "    token=sql[i].split()\n",
    "    if(sql[i].find(',')!=-1):\n",
    "        complex_.append(i)\n",
    "        continue\n",
    "    for val in token:\n",
    "        if(val.upper()==\"LIKE\"):\n",
    "            complex_.append(i)\n",
    "            break\n",
    "        if(val.upper()==\"ORDER\"):\n",
    "            complex_.append(i)\n",
    "            break\n",
    "        if(val.upper()==\"GROUP\"):\n",
    "            complex_.append(i)\n",
    "            break\n",
    "for val in complex_:\n",
    "    noncomplex.remove(val)"
   ]
  },
  {
   "cell_type": "code",
   "execution_count": 17,
   "metadata": {},
   "outputs": [],
   "source": [
    "Data=Data_Final.loc[noncomplex,:]\n",
    "Data.to_csv(\"NLP_Non_Complex.csv\",index=False)"
   ]
  },
  {
   "cell_type": "code",
   "execution_count": null,
   "metadata": {},
   "outputs": [],
   "source": []
  }
 ],
 "metadata": {
  "kernelspec": {
   "display_name": "Python 3",
   "language": "python",
   "name": "python3"
  },
  "language_info": {
   "codemirror_mode": {
    "name": "ipython",
    "version": 3
   },
   "file_extension": ".py",
   "mimetype": "text/x-python",
   "name": "python",
   "nbconvert_exporter": "python",
   "pygments_lexer": "ipython3",
   "version": "3.7.4"
  }
 },
 "nbformat": 4,
 "nbformat_minor": 2
}
