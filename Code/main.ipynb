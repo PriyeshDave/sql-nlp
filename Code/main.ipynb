{
 "cells": [
  {
   "cell_type": "code",
   "execution_count": 8,
   "metadata": {},
   "outputs": [],
   "source": [
    "from NER import NER\n",
    "from Graph import from_query\n",
    "import pandas as pd\n",
    "import spacy\n",
    "from spacy import displacy\n",
    "from difflib import get_close_matches\n",
    "from column import give_column\n",
    "def remove_(select,where):\n",
    "    res=[ele if ele not in where else None for ele in select]\n",
    "    while(None in res):\n",
    "        res.remove(None)\n",
    "    return res\n",
    "Data_Final=pd.read_csv(\"/Users/prakash/Desktop/natural-to-sql/Final_Processed/Augmented.csv\")\n",
    "Natural=Data_Final['Natural'][20:30]\n",
    "SQL=Data_Final['SQL'][20:30]\n",
    "Natural_after_NER=list(map(lambda x: NER(x)[1],Natural))\n",
    "Where_Clause=list(map(lambda x: NER(x)[0],Natural))\n",
    "# Where_ColName=list(map(lambda x: NER(x)[0][1],Natural))"
   ]
  },
  {
   "cell_type": "code",
   "execution_count": 9,
   "metadata": {},
   "outputs": [
    {
     "name": "stdout",
     "output_type": "stream",
     "text": [
      "SELECT DISTINCT PaperID_Title.Title FROM PaperID_Title\n",
      "SELECT DISTINCT PaperID_Title.Title FROM PaperID_Title WHERE PaperID='W06-0406'\n",
      "SELECT DISTINCT ConfID_FieldID.ConfID FROM ConfID_FieldID\n",
      "SELECT DISTINCT ConfID_Venue_Year.Venue FROM ConfID_Venue_Year JOIN ConfID_FieldID ON ConfID_Venue_Year.ConfID=ConfID_FieldID.ConfID ConfID_FieldID JOIN AuthID_FieldID ON ConfID_FieldID.FieldID=AuthID_FieldID.FieldID AuthID_FieldID JOIN AuthID_Name ON AuthID_FieldID.AuthID=AuthID_Name.AuthID  WHERE Name='A'\n"
     ]
    },
    {
     "ename": "IndexError",
     "evalue": "list index out of range",
     "output_type": "error",
     "traceback": [
      "\u001b[0;31m---------------------------------------------------------------------------\u001b[0m",
      "\u001b[0;31mIndexError\u001b[0m                                Traceback (most recent call last)",
      "\u001b[0;32m<ipython-input-9-dd327f0182be>\u001b[0m in \u001b[0;36m<module>\u001b[0;34m\u001b[0m\n\u001b[1;32m      4\u001b[0m     \u001b[0;32mif\u001b[0m\u001b[0;34m(\u001b[0m\u001b[0mWhere_Clause\u001b[0m\u001b[0;34m[\u001b[0m\u001b[0mi\u001b[0m\u001b[0;34m]\u001b[0m\u001b[0;34m==\u001b[0m\u001b[0;34m[\u001b[0m\u001b[0;34m]\u001b[0m\u001b[0;34m)\u001b[0m\u001b[0;34m:\u001b[0m\u001b[0;34m\u001b[0m\u001b[0;34m\u001b[0m\u001b[0m\n\u001b[1;32m      5\u001b[0m         \u001b[0mSelect_Clause_Processed\u001b[0m\u001b[0;34m.\u001b[0m\u001b[0mappend\u001b[0m\u001b[0;34m(\u001b[0m\u001b[0mSelect_Clause\u001b[0m\u001b[0;34m[\u001b[0m\u001b[0mi\u001b[0m\u001b[0;34m]\u001b[0m\u001b[0;34m)\u001b[0m\u001b[0;34m\u001b[0m\u001b[0;34m\u001b[0m\u001b[0m\n\u001b[0;32m----> 6\u001b[0;31m         \u001b[0mquery\u001b[0m\u001b[0;34m,\u001b[0m\u001b[0mfirst_table\u001b[0m\u001b[0;34m,\u001b[0m\u001b[0mlast_table\u001b[0m\u001b[0;34m=\u001b[0m\u001b[0mfrom_query\u001b[0m\u001b[0;34m(\u001b[0m\u001b[0mSelect_Clause_Processed\u001b[0m\u001b[0;34m[\u001b[0m\u001b[0mi\u001b[0m\u001b[0;34m]\u001b[0m\u001b[0;34m[\u001b[0m\u001b[0;36m0\u001b[0m\u001b[0;34m]\u001b[0m\u001b[0;34m,\u001b[0m\u001b[0mSelect_Clause_Processed\u001b[0m\u001b[0;34m[\u001b[0m\u001b[0mi\u001b[0m\u001b[0;34m]\u001b[0m\u001b[0;34m[\u001b[0m\u001b[0;36m0\u001b[0m\u001b[0;34m]\u001b[0m\u001b[0;34m)\u001b[0m\u001b[0;34m\u001b[0m\u001b[0;34m\u001b[0m\u001b[0m\n\u001b[0m\u001b[1;32m      7\u001b[0m         \u001b[0mprint\u001b[0m\u001b[0;34m(\u001b[0m\u001b[0;34m\"SELECT DISTINCT \"\u001b[0m\u001b[0;34m,\u001b[0m\u001b[0mfirst_table\u001b[0m\u001b[0;34m,\u001b[0m\u001b[0;34m\".\"\u001b[0m\u001b[0;34m,\u001b[0m\u001b[0mSelect_Clause_Processed\u001b[0m\u001b[0;34m[\u001b[0m\u001b[0mi\u001b[0m\u001b[0;34m]\u001b[0m\u001b[0;34m[\u001b[0m\u001b[0;36m0\u001b[0m\u001b[0;34m]\u001b[0m\u001b[0;34m,\u001b[0m\u001b[0;34m\" \"\u001b[0m\u001b[0;34m,\u001b[0m\u001b[0mquery\u001b[0m\u001b[0;34m,\u001b[0m\u001b[0msep\u001b[0m\u001b[0;34m=\u001b[0m\u001b[0;34m''\u001b[0m\u001b[0;34m)\u001b[0m\u001b[0;34m\u001b[0m\u001b[0;34m\u001b[0m\u001b[0m\n\u001b[1;32m      8\u001b[0m     \u001b[0;32melse\u001b[0m\u001b[0;34m:\u001b[0m\u001b[0;34m\u001b[0m\u001b[0;34m\u001b[0m\u001b[0m\n",
      "\u001b[0;32m~/Desktop/natural-to-sql/Code/Graph.py\u001b[0m in \u001b[0;36mfrom_query\u001b[0;34m(start, end)\u001b[0m\n\u001b[1;32m    162\u001b[0m     \u001b[0;31m#printpath(path)\u001b[0m\u001b[0;34m\u001b[0m\u001b[0;34m\u001b[0m\u001b[0;34m\u001b[0m\u001b[0m\n\u001b[1;32m    163\u001b[0m     \u001b[0;31m#print(\"\")\u001b[0m\u001b[0;34m\u001b[0m\u001b[0;34m\u001b[0m\u001b[0;34m\u001b[0m\u001b[0m\n\u001b[0;32m--> 164\u001b[0;31m     \u001b[0mquery\u001b[0m\u001b[0;34m,\u001b[0m\u001b[0mfirst_table\u001b[0m\u001b[0;34m,\u001b[0m\u001b[0mlast_table\u001b[0m \u001b[0;34m=\u001b[0m \u001b[0mmake_join_query\u001b[0m\u001b[0;34m(\u001b[0m\u001b[0mpath\u001b[0m\u001b[0;34m)\u001b[0m\u001b[0;34m\u001b[0m\u001b[0;34m\u001b[0m\u001b[0m\n\u001b[0m\u001b[1;32m    165\u001b[0m     \u001b[0;31m#print(query)\u001b[0m\u001b[0;34m\u001b[0m\u001b[0;34m\u001b[0m\u001b[0;34m\u001b[0m\u001b[0m\n\u001b[1;32m    166\u001b[0m     \u001b[0;32mreturn\u001b[0m \u001b[0mquery\u001b[0m\u001b[0;34m,\u001b[0m\u001b[0mfirst_table\u001b[0m\u001b[0;34m,\u001b[0m\u001b[0mlast_table\u001b[0m\u001b[0;34m\u001b[0m\u001b[0;34m\u001b[0m\u001b[0m\n",
      "\u001b[0;32m~/Desktop/natural-to-sql/Code/Graph.py\u001b[0m in \u001b[0;36mmake_join_query\u001b[0;34m(path)\u001b[0m\n\u001b[1;32m    129\u001b[0m     \u001b[0;31m# print(path)\u001b[0m\u001b[0;34m\u001b[0m\u001b[0;34m\u001b[0m\u001b[0;34m\u001b[0m\u001b[0m\n\u001b[1;32m    130\u001b[0m     \u001b[0mstring\u001b[0m \u001b[0;34m=\u001b[0m \u001b[0;34m\"FROM \"\u001b[0m\u001b[0;34m\u001b[0m\u001b[0;34m\u001b[0m\u001b[0m\n\u001b[0;32m--> 131\u001b[0;31m     \u001b[0mfirst_table\u001b[0m \u001b[0;34m=\u001b[0m \u001b[0mmain_dict\u001b[0m\u001b[0;34m[\u001b[0m\u001b[0mpath\u001b[0m\u001b[0;34m[\u001b[0m\u001b[0;36m0\u001b[0m\u001b[0;34m]\u001b[0m\u001b[0;34m]\u001b[0m\u001b[0;34m[\u001b[0m\u001b[0;36m0\u001b[0m\u001b[0;34m]\u001b[0m\u001b[0;34m\u001b[0m\u001b[0;34m\u001b[0m\u001b[0m\n\u001b[0m\u001b[1;32m    132\u001b[0m     \u001b[0mlast_table\u001b[0m \u001b[0;34m=\u001b[0m \u001b[0mmain_dict\u001b[0m\u001b[0;34m[\u001b[0m\u001b[0mpath\u001b[0m\u001b[0;34m[\u001b[0m\u001b[0;34m-\u001b[0m\u001b[0;36m1\u001b[0m\u001b[0;34m]\u001b[0m\u001b[0;34m]\u001b[0m\u001b[0;34m[\u001b[0m\u001b[0;36m0\u001b[0m\u001b[0;34m]\u001b[0m\u001b[0;34m\u001b[0m\u001b[0;34m\u001b[0m\u001b[0m\n\u001b[1;32m    133\u001b[0m \u001b[0;34m\u001b[0m\u001b[0m\n",
      "\u001b[0;31mIndexError\u001b[0m: list index out of range"
     ]
    }
   ],
   "source": [
    "Select_Clause=list(map(give_column,Natural_after_NER))\n",
    "Select_Clause_Processed=[]\n",
    "for i in range(len(Select_Clause)):\n",
    "    if(Where_Clause[i]==[]):\n",
    "        Select_Clause_Processed.append(Select_Clause[i])\n",
    "        query,first_table,last_table=from_query(Select_Clause_Processed[i][0],Select_Clause_Processed[i][0])\n",
    "        print(\"SELECT DISTINCT \",first_table,\".\",Select_Clause_Processed[i][0],\" \",query,sep='')\n",
    "    else:\n",
    "        Select_Clause_Processed.append(remove_(Select_Clause[i],Where_Clause[i][0][0]))\n",
    "#         print(Select_Clause_Processed[i][0],Where_Clause[i][0][0])\n",
    "        query,first_table,last_table=from_query(Select_Clause_Processed[i][0],Where_Clause[i][0][0])\n",
    "        print(\"SELECT DISTINCT \",first_table,\".\",Select_Clause_Processed[i][0],\" \",query,\" WHERE \",\n",
    "          Where_Clause[i][0][0],\"=\",\"'\",Where_Clause[i][0][1],\"'\",sep='')"
   ]
  },
  {
   "cell_type": "code",
   "execution_count": null,
   "metadata": {},
   "outputs": [],
   "source": [
    "list(SQL)"
   ]
  },
  {
   "cell_type": "code",
   "execution_count": 3,
   "metadata": {},
   "outputs": [
    {
     "data": {
      "text/plain": [
       "['List all the papers IDs',\n",
       " 'List all the authors IDs',\n",
       " 'List all the papers which are written by author of authorID   ',\n",
       " 'What are the papers written by   ',\n",
       " 'How many papers are written by Author ID   ',\n",
       " 'List all the authors who contributed to paper  ',\n",
       " 'How many authors contributed to paper  ',\n",
       " 'List all the authors for  ',\n",
       " 'What is the number of Authors of Paper ID  ',\n",
       " 'List all the papers with FieldID  ']"
      ]
     },
     "execution_count": 3,
     "metadata": {},
     "output_type": "execute_result"
    }
   ],
   "source": [
    "Natural_after_NER"
   ]
  },
  {
   "cell_type": "code",
   "execution_count": null,
   "metadata": {},
   "outputs": [],
   "source": [
    "Select_Clause"
   ]
  },
  {
   "cell_type": "code",
   "execution_count": null,
   "metadata": {},
   "outputs": [],
   "source": [
    "Where_Clause"
   ]
  },
  {
   "cell_type": "code",
   "execution_count": null,
   "metadata": {},
   "outputs": [],
   "source": [
    "Select_Clause_Processed"
   ]
  },
  {
   "cell_type": "code",
   "execution_count": null,
   "metadata": {},
   "outputs": [],
   "source": [
    "list(Natural)"
   ]
  },
  {
   "cell_type": "code",
   "execution_count": null,
   "metadata": {},
   "outputs": [],
   "source": []
  }
 ],
 "metadata": {
  "kernelspec": {
   "display_name": "Python 3",
   "language": "python",
   "name": "python3"
  },
  "language_info": {
   "codemirror_mode": {
    "name": "ipython",
    "version": 3
   },
   "file_extension": ".py",
   "mimetype": "text/x-python",
   "name": "python",
   "nbconvert_exporter": "python",
   "pygments_lexer": "ipython3",
   "version": "3.7.4"
  }
 },
 "nbformat": 4,
 "nbformat_minor": 2
}
