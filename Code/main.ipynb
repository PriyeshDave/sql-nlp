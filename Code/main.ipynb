{
 "cells": [
  {
   "cell_type": "code",
   "execution_count": 11,
   "metadata": {},
   "outputs": [],
   "source": [
    "from NER import NER\n",
    "from Graph import from_query\n",
    "import pandas as pd\n",
    "import spacy\n",
    "from spacy import displacy\n",
    "from difflib import get_close_matches\n",
    "from column import give_column\n",
    "from isCount import isCount\n",
    "def remove_(select,where):\n",
    "    res=[ele if ele not in where else None for ele in select]\n",
    "    while(None in res):\n",
    "        res.remove(None)\n",
    "    return res\n",
    "Data_Final=pd.read_csv(\"/Users/prakash/Desktop/natural-to-sql/Final_Processed/Augmented_Non_Complex.csv\")\n",
    "Natural=Data_Final['Natural'][10:20]\n",
    "SQL=Data_Final['SQL'][10:20]\n",
    "Natural_after_NER=list(map(lambda x: NER(x)[1],Natural))\n",
    "Where_Clause=list(map(lambda x: NER(x)[0],Natural))\n",
    "# Where_ColName=list(map(lambda x: NER(x)[0][1],Natural))"
   ]
  },
  {
   "cell_type": "code",
   "execution_count": 19,
   "metadata": {},
   "outputs": [
    {
     "name": "stdout",
     "output_type": "stream",
     "text": [
      "SELECT DISTINCT PaperID_FieldID.PaperID FROM PaperID_FieldID WHERE FieldID='F-12'\n",
      "SELECT DISTINCT COUNT(*) FROM PaperID_FieldID WHERE FieldID='F-3'\n",
      "SELECT DISTINCT AuthID_FieldID.FieldID FROM AuthID_FieldID\n",
      "SELECT DISTINCT PaperID_FieldID.FieldID FROM PaperID_FieldID WHERE PaperID='J79-1003'\n",
      "SELECT DISTINCT PaperID_FieldID.FieldID FROM PaperID_FieldID WHERE PaperID='C04-1048'\n",
      "SELECT DISTINCT COUNT(*) FROM PaperID_FieldID WHERE PaperID='W06-2111'\n",
      "SELECT DISTINCT ConfID_PaperID.PaperID FROM ConfID_PaperID\n",
      "SELECT DISTINCT PaperID_Summary.Summary FROM PaperID_Summary WHERE PaperID='W11-1015'\n",
      "SELECT DISTINCT PaperID_Summary.Summary FROM PaperID_Summary WHERE PaperID='N12-1017'\n",
      "SELECT DISTINCT PaperID_Title.Title FROM PaperID_Title\n"
     ]
    },
    {
     "name": "stderr",
     "output_type": "stream",
     "text": [
      "[nltk_data] Downloading package stopwords to\n",
      "[nltk_data]     /Users/prakash/nltk_data...\n",
      "[nltk_data]   Package stopwords is already up-to-date!\n",
      "[nltk_data] Downloading package punkt to /Users/prakash/nltk_data...\n",
      "[nltk_data]   Package punkt is already up-to-date!\n",
      "[nltk_data] Downloading package stopwords to\n",
      "[nltk_data]     /Users/prakash/nltk_data...\n",
      "[nltk_data]   Package stopwords is already up-to-date!\n",
      "[nltk_data] Downloading package punkt to /Users/prakash/nltk_data...\n",
      "[nltk_data]   Package punkt is already up-to-date!\n",
      "[nltk_data] Downloading package stopwords to\n",
      "[nltk_data]     /Users/prakash/nltk_data...\n",
      "[nltk_data]   Package stopwords is already up-to-date!\n",
      "[nltk_data] Downloading package punkt to /Users/prakash/nltk_data...\n",
      "[nltk_data]   Package punkt is already up-to-date!\n",
      "[nltk_data] Downloading package stopwords to\n",
      "[nltk_data]     /Users/prakash/nltk_data...\n",
      "[nltk_data]   Package stopwords is already up-to-date!\n",
      "[nltk_data] Downloading package punkt to /Users/prakash/nltk_data...\n",
      "[nltk_data]   Package punkt is already up-to-date!\n",
      "[nltk_data] Downloading package stopwords to\n",
      "[nltk_data]     /Users/prakash/nltk_data...\n",
      "[nltk_data]   Package stopwords is already up-to-date!\n",
      "[nltk_data] Downloading package punkt to /Users/prakash/nltk_data...\n",
      "[nltk_data]   Package punkt is already up-to-date!\n",
      "[nltk_data] Downloading package stopwords to\n",
      "[nltk_data]     /Users/prakash/nltk_data...\n",
      "[nltk_data]   Package stopwords is already up-to-date!\n",
      "[nltk_data] Downloading package punkt to /Users/prakash/nltk_data...\n",
      "[nltk_data]   Package punkt is already up-to-date!\n",
      "[nltk_data] Downloading package stopwords to\n",
      "[nltk_data]     /Users/prakash/nltk_data...\n",
      "[nltk_data]   Package stopwords is already up-to-date!\n",
      "[nltk_data] Downloading package punkt to /Users/prakash/nltk_data...\n",
      "[nltk_data]   Package punkt is already up-to-date!\n",
      "[nltk_data] Downloading package stopwords to\n",
      "[nltk_data]     /Users/prakash/nltk_data...\n",
      "[nltk_data]   Package stopwords is already up-to-date!\n",
      "[nltk_data] Downloading package punkt to /Users/prakash/nltk_data...\n",
      "[nltk_data]   Package punkt is already up-to-date!\n",
      "[nltk_data] Downloading package stopwords to\n",
      "[nltk_data]     /Users/prakash/nltk_data...\n",
      "[nltk_data]   Package stopwords is already up-to-date!\n",
      "[nltk_data] Downloading package punkt to /Users/prakash/nltk_data...\n",
      "[nltk_data]   Package punkt is already up-to-date!\n",
      "[nltk_data] Downloading package stopwords to\n",
      "[nltk_data]     /Users/prakash/nltk_data...\n",
      "[nltk_data]   Package stopwords is already up-to-date!\n",
      "[nltk_data] Downloading package punkt to /Users/prakash/nltk_data...\n",
      "[nltk_data]   Package punkt is already up-to-date!\n"
     ]
    }
   ],
   "source": [
    "Select_Clause=list(map(give_column,Natural_after_NER))\n",
    "Is_Count=list(map(isCount,Natural_after_NER))\n",
    "Select_Clause_Processed=[]\n",
    "for i in range(len(Select_Clause)):\n",
    "    if(Is_Count[i]):\n",
    "        if(Where_Clause[i]==[]):\n",
    "            Select_Clause_Processed.append(Select_Clause[i])\n",
    "            query,first_table,last_table=from_query(Select_Clause_Processed[i][0],Select_Clause_Processed[i][0])\n",
    "            print(\"SELECT DISTINCT COUNT(*) \",query,sep='')\n",
    "        else:\n",
    "            Select_Clause_Processed.append(remove_(Select_Clause[i],Where_Clause[i][0][0]))\n",
    "    #         print(Select_Clause_Processed[i][0],Where_Clause[i][0][0])\n",
    "            query,first_table,last_table=from_query(Select_Clause_Processed[i][0],Where_Clause[i][0][0])\n",
    "            print(\"SELECT DISTINCT COUNT(*) \",query,\" WHERE \",\n",
    "              Where_Clause[i][0][0],\"=\",\"'\",Where_Clause[i][0][1],\"'\",sep='')\n",
    "    else:\n",
    "        if(Where_Clause[i]==[]):\n",
    "            Select_Clause_Processed.append(Select_Clause[i])\n",
    "            query,first_table,last_table=from_query(Select_Clause_Processed[i][0],Select_Clause_Processed[i][0])\n",
    "            print(\"SELECT DISTINCT \",first_table,\".\",Select_Clause_Processed[i][0],\" \",query,sep='')\n",
    "        else:\n",
    "            Select_Clause_Processed.append(remove_(Select_Clause[i],Where_Clause[i][0][0]))\n",
    "#             print(Select_Clause_Processed[i])\n",
    "            if(len(Select_Clause_Processed[i])==0):\n",
    "                print(\"Fuck\")\n",
    "            else:\n",
    "    #         print(Select_Clause_Processed[i][0],Where_Clause[i][0][0])\n",
    "                query,first_table,last_table=from_query(Select_Clause_Processed[i][0],Where_Clause[i][0][0])\n",
    "                print(\"SELECT DISTINCT \",first_table,\".\",Select_Clause_Processed[i][0],\" \",query,\" WHERE \",\n",
    "                  Where_Clause[i][0][0],\"=\",\"'\",Where_Clause[i][0][1],\"'\",sep='')"
   ]
  },
  {
   "cell_type": "code",
   "execution_count": 20,
   "metadata": {},
   "outputs": [
    {
     "data": {
      "text/plain": [
       "[\"SELECT DISTINCT PaperID_FieldID.PaperID FROM PaperID_FieldID WHERE PaperID_FieldID.FieldID='F-12';\",\n",
       " \"SELECT DISTINCT COUNT(*) FROM PaperID_FieldID WHERE PaperID_FieldID.FieldID='F-3';\",\n",
       " 'SELECT DISTINCT PaperID_FieldID.FieldID FROM PaperID_FieldID;',\n",
       " \"SELECT DISTINCT PaperID_FieldID.FieldID FROM PaperID_FieldID WHERE PaperID_FieldID.PaperID='J79-1003';\",\n",
       " \"SELECT DISTINCT PaperID_FieldID.FieldID FROM PaperID_FieldID WHERE PaperID_FieldID.PaperID='C04-1048';\",\n",
       " \"SELECT DISTINCT COUNT(*) FROM PaperID_FieldID WHERE PaperID_FieldID.PaperID='W06-2111';\",\n",
       " 'SELECT DISTINCT PaperID_Summary.Summary from PaperID_Summary;',\n",
       " \"SELECT DISTINCT PaperID_Summary.Summary from PaperID_Summary WHERE PaperID_Summary.PaperID='W11-1015';\",\n",
       " \"SELECT DISTINCT PaperID_Summary.Summary from PaperID_Summary WHERE PaperID_Summary.PaperID='N12-1017';\",\n",
       " 'SELECT DISTINCT PaperID_Title.Title FROM PaperID_Title;']"
      ]
     },
     "execution_count": 20,
     "metadata": {},
     "output_type": "execute_result"
    }
   ],
   "source": [
    "list(SQL)"
   ]
  },
  {
   "cell_type": "code",
   "execution_count": 14,
   "metadata": {},
   "outputs": [
    {
     "data": {
      "text/plain": [
       "['What are the papers associated with FieldID    ',\n",
       " 'Count all the papers associated with FieldID   ',\n",
       " 'List all the Field IDs ',\n",
       " 'List all the Field IDs associated with paperID   ',\n",
       " 'What are the Fields associated with paperID   ',\n",
       " 'Count the number of Fields associated with paperID  ',\n",
       " 'List all the summaries of all the papers ',\n",
       " 'what is the summary of paper with paperID    ',\n",
       " 'Print summary of paper ID  ',\n",
       " 'List titles of all the papers']"
      ]
     },
     "execution_count": 14,
     "metadata": {},
     "output_type": "execute_result"
    }
   ],
   "source": [
    "Natural_after_NER"
   ]
  },
  {
   "cell_type": "code",
   "execution_count": 15,
   "metadata": {},
   "outputs": [
    {
     "data": {
      "text/plain": [
       "[['PaperID'],\n",
       " ['PaperID'],\n",
       " ['FieldID'],\n",
       " ['PaperID', 'FieldID'],\n",
       " ['PaperID', 'FieldID'],\n",
       " ['PaperID', 'FieldID', 'Name'],\n",
       " ['PaperID', 'Summary'],\n",
       " ['Summary', 'PaperID', 'PaperID'],\n",
       " ['Summary', 'PaperID'],\n",
       " ['Title', 'PaperID']]"
      ]
     },
     "execution_count": 15,
     "metadata": {},
     "output_type": "execute_result"
    }
   ],
   "source": [
    "Select_Clause"
   ]
  },
  {
   "cell_type": "code",
   "execution_count": 16,
   "metadata": {},
   "outputs": [
    {
     "data": {
      "text/plain": [
       "[[['FieldID', 'F-12']],\n",
       " [['FieldID', 'F-3']],\n",
       " [],\n",
       " [['PaperID', 'J79-1003']],\n",
       " [['PaperID', 'C04-1048']],\n",
       " [['PaperID', 'W06-2111']],\n",
       " [],\n",
       " [['PaperID', 'W11-1015']],\n",
       " [['PaperID', 'N12-1017']],\n",
       " []]"
      ]
     },
     "execution_count": 16,
     "metadata": {},
     "output_type": "execute_result"
    }
   ],
   "source": [
    "Where_Clause"
   ]
  },
  {
   "cell_type": "code",
   "execution_count": 17,
   "metadata": {},
   "outputs": [
    {
     "data": {
      "text/plain": [
       "[['PaperID'],\n",
       " ['PaperID'],\n",
       " ['FieldID'],\n",
       " ['FieldID'],\n",
       " ['FieldID'],\n",
       " ['FieldID', 'Name'],\n",
       " ['PaperID', 'Summary'],\n",
       " ['Summary'],\n",
       " ['Summary'],\n",
       " ['Title', 'PaperID']]"
      ]
     },
     "execution_count": 17,
     "metadata": {},
     "output_type": "execute_result"
    }
   ],
   "source": [
    "Select_Clause_Processed"
   ]
  },
  {
   "cell_type": "code",
   "execution_count": 18,
   "metadata": {},
   "outputs": [
    {
     "data": {
      "text/plain": [
       "[\"What are the papers associated with FieldID 'F-12' ?\",\n",
       " \"Count all the papers associated with FieldID 'F-3'.\",\n",
       " 'List all the Field IDs.',\n",
       " \"List all the Field IDs associated with paperID 'J79-1003'.\",\n",
       " \"What are the Fields associated with paperID 'C04-1048'?\",\n",
       " \"Count the number of Fields associated with paperID 'W06-2111'\",\n",
       " 'List all the summaries of all the papers ',\n",
       " \"what is the summary of paper with paperID 'W11-1015' ?\",\n",
       " \"Print summary of paper ID 'N12-1017'\",\n",
       " 'List titles of all the papers']"
      ]
     },
     "execution_count": 18,
     "metadata": {},
     "output_type": "execute_result"
    }
   ],
   "source": [
    "list(Natural)"
   ]
  },
  {
   "cell_type": "code",
   "execution_count": null,
   "metadata": {},
   "outputs": [],
   "source": []
  }
 ],
 "metadata": {
  "kernelspec": {
   "display_name": "Python 3",
   "language": "python",
   "name": "python3"
  },
  "language_info": {
   "codemirror_mode": {
    "name": "ipython",
    "version": 3
   },
   "file_extension": ".py",
   "mimetype": "text/x-python",
   "name": "python",
   "nbconvert_exporter": "python",
   "pygments_lexer": "ipython3",
   "version": "3.7.4"
  }
 },
 "nbformat": 4,
 "nbformat_minor": 2
}
