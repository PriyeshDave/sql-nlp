{
 "cells": [
  {
   "cell_type": "code",
   "execution_count": 14,
   "metadata": {},
   "outputs": [],
   "source": [
    "from NER import NER\n",
    "from Graph import from_query\n",
    "import pandas as pd\n",
    "import spacy\n",
    "from spacy import displacy\n",
    "from difflib import get_close_matches\n",
    "from column import give_column\n",
    "from isCount import isCount\n",
    "\n",
    "def remove_(select,where):\n",
    "    res=[ele if ele not in where else None for ele in select]\n",
    "    while(None in res):\n",
    "        res.remove(None)\n",
    "    return res\n",
    "\n",
    "Data_Final=pd.read_csv(\"Augmented_Non_Complex.csv\")\n",
    "\n",
    "Natural=Data_Final['Natural'][151]\n",
    "# Natural=[\"Display the authors who on the field Machine Translation and are from affiliate 'The MITRE Corporation'.\"]\n",
    "#Natural = [\"How many number of conference have been conducted in the field 'F-7'?\"]\n",
    "#Natural = [\"What is ID of author 'Mungi, Ashish'\"]\n",
    "\n",
    "\n",
    "SQL=Data_Final['SQL'][151]\n",
    "# SQL=[\"SELECT DISTINCT COUNT(*) FROM AuthID_FieldID JOIN AuthID_Name ON AuthID_FieldID.AuthID=AuthID_Name.AuthID WHERE AuthID_FieldID.FieldID='Lexical Acquisition'\"]\n",
    "#SQL = [\"SELECT DISTINCT COUNT(*) FROM ConfID_FieldID WHERE ConfID_FieldID.FieldID='F-7';\"]\n",
    "\n",
    "\n",
    "Natural_after_NER=list(map(lambda x: NER(x)[1],[Natural]))\n",
    "Where_Clause=list(map(lambda x: NER(x)[0],[Natural]))\n",
    "# Where_ColName=list(map(lambda x: NER(x)[0][1],Natural))"
   ]
  },
  {
   "cell_type": "markdown",
   "metadata": {},
   "source": [
    "### Predicting SQL Queries"
   ]
  },
  {
   "cell_type": "code",
   "execution_count": 15,
   "metadata": {},
   "outputs": [
    {
     "name": "stdout",
     "output_type": "stream",
     "text": [
      "Natural Language Statement:\n",
      "What is the number of conferences which were held in the year 1992?\n",
      "########################################################################\n",
      "Actual SQL Query:\n",
      "SELECT DISTINCT COUNT(*) FROM ConfID_Venue_Year WHERE ConfID_Venue_Year.Year=1992;\n",
      "########################################################################\n",
      "Predicted SQL query:\n",
      "SELECT DISTINCT COUNT(*) FROM AuthID_Name JOIN AuthID_FieldID ON AuthID_Name.AuthID=AuthID_FieldID.AuthID AuthID_FieldID JOIN ConfID_FieldID ON AuthID_FieldID.FieldID=ConfID_FieldID.FieldID ConfID_FieldID JOIN ConfID_Venue_Year ON ConfID_FieldID.ConfID=ConfID_Venue_Year.ConfID  WHERE ConfID_Venue_Year.Year='1992'\n"
     ]
    }
   ],
   "source": [
    "Select_Clause=list(map(give_column,Natural_after_NER))\n",
    "Is_Count=list(map(isCount,Natural_after_NER))\n",
    "Select_Clause_Processed=[]\n",
    "\n",
    "print('Natural Language Statement:')\n",
    "print(Natural)\n",
    "print(\"########################################################################\")\n",
    "\n",
    "print('Actual SQL Query:')\n",
    "print(SQL)\n",
    "print(\"########################################################################\")\n",
    "\n",
    "print('Predicted SQL query:')\n",
    "\n",
    "for i in range(len(Select_Clause)):\n",
    "    if(Is_Count[i]):\n",
    "        if(Where_Clause[i]==[]):\n",
    "            Select_Clause_Processed.append(Select_Clause[i])\n",
    "            query,first_table,last_table=from_query(Select_Clause_Processed[i][0],Select_Clause_Processed[i][0])\n",
    "            print(\"SELECT DISTINCT COUNT(*) \",query,sep='')\n",
    "        else:\n",
    "            Select_Clause_Processed.append(remove_(Select_Clause[i],Where_Clause[i][0][0]))\n",
    "    #         print(Select_Clause_Processed[i][0],Where_Clause[i][0][0])\n",
    "            query,first_table,last_table=from_query(Select_Clause_Processed[i][0],Where_Clause[i][0][0])\n",
    "            print(\"SELECT DISTINCT COUNT(*) \",query,\" WHERE \",last_table+'.'+Where_Clause[i][0][0],\"=\",\"'\",Where_Clause[i][0][1],\"'\",sep='')\n",
    "    else:\n",
    "        if(Where_Clause[i]==[]):\n",
    "            Select_Clause_Processed.append(Select_Clause[i])\n",
    "            query,first_table,last_table=from_query(Select_Clause_Processed[i][0],Select_Clause_Processed[i][0])\n",
    "            print(\"SELECT DISTINCT \",first_table,\".\",Select_Clause_Processed[i][0],\" \",query,sep='')\n",
    "        else:\n",
    "            Select_Clause_Processed.append(remove_(Select_Clause[i],Where_Clause[i][0][0]))\n",
    "#             print(Select_Clause_Processed[i])\n",
    "            if(len(Select_Clause_Processed[i])==0):\n",
    "                print(\"Fuck\")\n",
    "            else:\n",
    "    #         print(Select_Clause_Processed[i][0],Where_Clause[i][0][0])\n",
    "                query,first_table,last_table=from_query(Select_Clause_Processed[i][0],Where_Clause[i][0][0])\n",
    "                print(\"SELECT DISTINCT \",first_table,\".\",Select_Clause_Processed[i][0],\" \",query,\" WHERE \",last_table+'.'+Where_Clause[i][0][0],\"=\",\"'\",Where_Clause[i][0][1],\"'\",sep='')"
   ]
  },
  {
   "cell_type": "markdown",
   "metadata": {},
   "source": [
    "### Actual SQL Queries"
   ]
  },
  {
   "cell_type": "code",
   "execution_count": null,
   "metadata": {},
   "outputs": [
    {
     "data": {
      "text/plain": [
       "[\"SELECT DISTINCT COUNT(*) FROM ConfID_FieldID WHERE ConfID_FieldID.FieldID='F-7';\"]"
      ]
     },
     "execution_count": 66,
     "metadata": {},
     "output_type": "execute_result"
    }
   ],
   "source": [
    "list(SQL)"
   ]
  },
  {
   "cell_type": "markdown",
   "metadata": {},
   "source": [
    "### Natural Language Statement"
   ]
  },
  {
   "cell_type": "code",
   "execution_count": null,
   "metadata": {},
   "outputs": [
    {
     "data": {
      "text/plain": [
       "['How many number of conference have been conducted in the field  ']"
      ]
     },
     "execution_count": 67,
     "metadata": {},
     "output_type": "execute_result"
    }
   ],
   "source": [
    "Natural_after_NER"
   ]
  },
  {
   "cell_type": "markdown",
   "metadata": {},
   "source": [
    "### Task: Which columns to select "
   ]
  },
  {
   "cell_type": "code",
   "execution_count": null,
   "metadata": {},
   "outputs": [
    {
     "data": {
      "text/plain": [
       "[['FieldID', 'Name', 'ConfID']]"
      ]
     },
     "execution_count": 68,
     "metadata": {},
     "output_type": "execute_result"
    }
   ],
   "source": [
    "Select_Clause"
   ]
  },
  {
   "cell_type": "markdown",
   "metadata": {},
   "source": [
    "### Task: Predicting the where clause"
   ]
  },
  {
   "cell_type": "code",
   "execution_count": null,
   "metadata": {},
   "outputs": [
    {
     "data": {
      "text/plain": [
       "[[['FieldID', 'F-7']]]"
      ]
     },
     "execution_count": 69,
     "metadata": {},
     "output_type": "execute_result"
    }
   ],
   "source": [
    "Where_Clause"
   ]
  },
  {
   "cell_type": "code",
   "execution_count": null,
   "metadata": {},
   "outputs": [
    {
     "data": {
      "text/plain": [
       "[['Name', 'ConfID']]"
      ]
     },
     "execution_count": 70,
     "metadata": {},
     "output_type": "execute_result"
    }
   ],
   "source": [
    "Select_Clause_Processed"
   ]
  },
  {
   "cell_type": "code",
   "execution_count": null,
   "metadata": {},
   "outputs": [
    {
     "data": {
      "text/plain": [
       "[\"How many number of conference have been conducted in the field 'F-7'?\"]"
      ]
     },
     "execution_count": 71,
     "metadata": {},
     "output_type": "execute_result"
    }
   ],
   "source": [
    "list(Natural)"
   ]
  },
  {
   "cell_type": "code",
   "execution_count": null,
   "metadata": {},
   "outputs": [
    {
     "data": {
      "text/plain": [
       "['ConfID']"
      ]
     },
     "execution_count": 72,
     "metadata": {},
     "output_type": "execute_result"
    }
   ],
   "source": [
    "give_column(\"Which conference was held at and in\")"
   ]
  },
  {
   "cell_type": "markdown",
   "metadata": {},
   "source": [
    "### Prediction Pipeline"
   ]
  },
  {
   "cell_type": "code",
   "execution_count": null,
   "metadata": {},
   "outputs": [],
   "source": [
    "# def remove_(select,where):\n",
    "#     res=[ele if ele not in where else None for ele in select]\n",
    "#     while(None in res):\n",
    "#         res.remove(None)\n",
    "#     return res"
   ]
  },
  {
   "cell_type": "code",
   "execution_count": null,
   "metadata": {},
   "outputs": [],
   "source": [
    "# def NLP_TO_SQL_Pipeline(natural, sql):\n",
    "\n",
    "#   print('Natural Language Statement:')\n",
    "#   print(natural)\n",
    "#   print(\"########################################################################\")\n",
    "\n",
    "#   print('Actual SQL Query:')\n",
    "#   print(sql)\n",
    "#   print(\"########################################################################\")\n",
    "\n",
    "#   print('Predicted SQL query:')\n",
    "\n",
    "#   Natural_after_NER=list(map(lambda x: NER(x)[1],natural))\n",
    "#   Where_Clause=list(map(lambda x: NER(x)[0],natural))\n",
    "\n",
    "#   Select_Clause=list(map(give_column,Natural_after_NER))\n",
    "#   Is_Count=list(map(isCount,Natural_after_NER))\n",
    "#   Select_Clause_Processed=[]\n",
    "\n",
    "#   for i in range(len(Select_Clause)):\n",
    "#     if(Is_Count[i]):\n",
    "#         if(Where_Clause[i]==[]):\n",
    "#             Select_Clause_Processed.append(Select_Clause[i])\n",
    "#             query,first_table,last_table=from_query(Select_Clause_Processed[i][0],Select_Clause_Processed[i][0])\n",
    "#             print(\"SELECT DISTINCT COUNT(*) \",query,sep='')\n",
    "#         else:\n",
    "#             Select_Clause_Processed.append(remove_(Select_Clause[i],Where_Clause[i][0][0]))\n",
    "#     #         print(Select_Clause_Processed[i][0],Where_Clause[i][0][0])\n",
    "#             query,first_table,last_table=from_query(Select_Clause_Processed[i][0],Where_Clause[i][0][0])\n",
    "#             print(\"SELECT DISTINCT COUNT(*) \",query,\" WHERE \",last_table+'.'+Where_Clause[i][0][0],\"=\",\"'\",Where_Clause[i][0][1],\"'\",sep='')\n",
    "#     else:\n",
    "#         if(Where_Clause[i]==[]):\n",
    "#             Select_Clause_Processed.append(Select_Clause[i])\n",
    "#             query,first_table,last_table=from_query(Select_Clause_Processed[i][0],Select_Clause_Processed[i][0])\n",
    "#             print(\"SELECT DISTINCT \",first_table,\".\",Select_Clause_Processed[i][0],\" \",query,sep='')\n",
    "#         else:\n",
    "#             Select_Clause_Processed.append(remove_(Select_Clause[i],Where_Clause[i][0][0]))\n",
    "# #             print(Select_Clause_Processed[i])\n",
    "#             if(len(Select_Clause_Processed[i])==0):\n",
    "#                 print(\"Fuck\")\n",
    "#             else:\n",
    "#     #         print(Select_Clause_Processed[i][0],Where_Clause[i][0][0])\n",
    "#                 query,first_table,last_table=from_query(Select_Clause_Processed[i][0],Where_Clause[i][0][0])\n",
    "#                 print(\"SELECT DISTINCT \",first_table,\".\",Select_Clause_Processed[i][0],\" \",query,\" WHERE \",last_table+'.'+Where_Clause[i][0][0],\"=\",\"'\",Where_Clause[i][0][1],\"'\",sep='')"
   ]
  },
  {
   "cell_type": "code",
   "execution_count": null,
   "metadata": {},
   "outputs": [
    {
     "name": "stdout",
     "output_type": "stream",
     "text": [
      "Natural Language Statement:\n",
      "How many total papers are published?\n",
      "########################################################################\n",
      "Actual SQL Query:\n",
      "SELECT DISTINCT COUNT(*) FROM KeywordID_PaperID;\n",
      "########################################################################\n",
      "Predicted SQL query:\n",
      "processed_natural\n",
      "[] H\n",
      "processed_natural\n",
      "[] o\n",
      "processed_natural\n",
      "[] w\n",
      "processed_natural\n",
      "[]  \n",
      "processed_natural\n",
      "[] m\n",
      "processed_natural\n",
      "[] a\n",
      "processed_natural\n",
      "[] n\n",
      "processed_natural\n",
      "[] y\n",
      "processed_natural\n",
      "[]  \n",
      "processed_natural\n",
      "[] t\n",
      "processed_natural\n",
      "[] o\n",
      "processed_natural\n",
      "[] t\n",
      "processed_natural\n",
      "[] a\n",
      "processed_natural\n",
      "[] l\n",
      "processed_natural\n",
      "[]  \n",
      "processed_natural\n",
      "[] p\n",
      "processed_natural\n",
      "[] a\n",
      "processed_natural\n",
      "[] p\n",
      "processed_natural\n",
      "[] e\n",
      "processed_natural\n",
      "[] r\n",
      "processed_natural\n",
      "[] s\n",
      "processed_natural\n",
      "[]  \n",
      "processed_natural\n",
      "[] a\n",
      "processed_natural\n",
      "[] r\n",
      "processed_natural\n",
      "[] e\n",
      "processed_natural\n",
      "[]  \n",
      "processed_natural\n",
      "[] p\n",
      "processed_natural\n",
      "[] u\n",
      "processed_natural\n",
      "[] b\n",
      "processed_natural\n",
      "[] l\n",
      "processed_natural\n",
      "[] i\n",
      "processed_natural\n",
      "[] s\n",
      "processed_natural\n",
      "[] h\n",
      "processed_natural\n",
      "[] e\n",
      "processed_natural\n",
      "[] d\n",
      "processed_natural\n",
      "[]  \n",
      "processed_natural\n",
      "[] H\n",
      "processed_natural\n",
      "[] o\n",
      "processed_natural\n",
      "[] w\n",
      "processed_natural\n",
      "[]  \n",
      "processed_natural\n",
      "[] m\n",
      "processed_natural\n",
      "[] a\n",
      "processed_natural\n",
      "[] n\n",
      "processed_natural\n",
      "[] y\n",
      "processed_natural\n",
      "[]  \n",
      "processed_natural\n",
      "[] t\n",
      "processed_natural\n",
      "[] o\n",
      "processed_natural\n",
      "[] t\n",
      "processed_natural\n",
      "[] a\n",
      "processed_natural\n",
      "[] l\n",
      "processed_natural\n",
      "[]  \n",
      "processed_natural\n",
      "[] p\n",
      "processed_natural\n",
      "[] a\n",
      "processed_natural\n",
      "[] p\n",
      "processed_natural\n",
      "[] e\n",
      "processed_natural\n",
      "[] r\n",
      "processed_natural\n",
      "[] s\n",
      "processed_natural\n",
      "[]  \n",
      "processed_natural\n",
      "[] a\n",
      "processed_natural\n",
      "[] r\n",
      "processed_natural\n",
      "[] e\n",
      "processed_natural\n",
      "[]  \n",
      "processed_natural\n",
      "[] p\n",
      "processed_natural\n",
      "[] u\n",
      "processed_natural\n",
      "[] b\n",
      "processed_natural\n",
      "[] l\n",
      "processed_natural\n",
      "[] i\n",
      "processed_natural\n",
      "[] s\n",
      "processed_natural\n",
      "[] h\n",
      "processed_natural\n",
      "[] e\n",
      "processed_natural\n",
      "[] d\n",
      "processed_natural\n",
      "[]  \n"
     ]
    },
    {
     "ename": "IndexError",
     "evalue": "list index out of range",
     "output_type": "error",
     "traceback": [
      "\u001b[1;31m---------------------------------------------------------------------------\u001b[0m",
      "\u001b[1;31mIndexError\u001b[0m                                Traceback (most recent call last)",
      "\u001b[1;32mC:\\Users\\PRIYES~1\\AppData\\Local\\Temp/ipykernel_27956/1323358552.py\u001b[0m in \u001b[0;36m<module>\u001b[1;34m\u001b[0m\n\u001b[0;32m      2\u001b[0m \u001b[0msql\u001b[0m \u001b[1;33m=\u001b[0m \u001b[1;34m\"SELECT DISTINCT COUNT(*) FROM KeywordID_PaperID;\"\u001b[0m\u001b[1;33m\u001b[0m\u001b[1;33m\u001b[0m\u001b[0m\n\u001b[0;32m      3\u001b[0m \u001b[1;33m\u001b[0m\u001b[0m\n\u001b[1;32m----> 4\u001b[1;33m \u001b[0mNLP_TO_SQL_Pipeline\u001b[0m\u001b[1;33m(\u001b[0m\u001b[0mnlp\u001b[0m\u001b[1;33m,\u001b[0m \u001b[0msql\u001b[0m\u001b[1;33m)\u001b[0m\u001b[1;33m\u001b[0m\u001b[1;33m\u001b[0m\u001b[0m\n\u001b[0m",
      "\u001b[1;32mC:\\Users\\PRIYES~1\\AppData\\Local\\Temp/ipykernel_27956/1371073070.py\u001b[0m in \u001b[0;36mNLP_TO_SQL_Pipeline\u001b[1;34m(natural, sql)\u001b[0m\n\u001b[0;32m     14\u001b[0m   \u001b[0mWhere_Clause\u001b[0m\u001b[1;33m=\u001b[0m\u001b[0mlist\u001b[0m\u001b[1;33m(\u001b[0m\u001b[0mmap\u001b[0m\u001b[1;33m(\u001b[0m\u001b[1;32mlambda\u001b[0m \u001b[0mx\u001b[0m\u001b[1;33m:\u001b[0m \u001b[0mNER\u001b[0m\u001b[1;33m(\u001b[0m\u001b[0mx\u001b[0m\u001b[1;33m)\u001b[0m\u001b[1;33m[\u001b[0m\u001b[1;36m0\u001b[0m\u001b[1;33m]\u001b[0m\u001b[1;33m,\u001b[0m\u001b[0mnatural\u001b[0m\u001b[1;33m)\u001b[0m\u001b[1;33m)\u001b[0m\u001b[1;33m\u001b[0m\u001b[1;33m\u001b[0m\u001b[0m\n\u001b[0;32m     15\u001b[0m \u001b[1;33m\u001b[0m\u001b[0m\n\u001b[1;32m---> 16\u001b[1;33m   \u001b[0mSelect_Clause\u001b[0m\u001b[1;33m=\u001b[0m\u001b[0mlist\u001b[0m\u001b[1;33m(\u001b[0m\u001b[0mmap\u001b[0m\u001b[1;33m(\u001b[0m\u001b[0mgive_column\u001b[0m\u001b[1;33m,\u001b[0m\u001b[0mNatural_after_NER\u001b[0m\u001b[1;33m)\u001b[0m\u001b[1;33m)\u001b[0m\u001b[1;33m\u001b[0m\u001b[1;33m\u001b[0m\u001b[0m\n\u001b[0m\u001b[0;32m     17\u001b[0m   \u001b[0mIs_Count\u001b[0m\u001b[1;33m=\u001b[0m\u001b[0mlist\u001b[0m\u001b[1;33m(\u001b[0m\u001b[0mmap\u001b[0m\u001b[1;33m(\u001b[0m\u001b[0misCount\u001b[0m\u001b[1;33m,\u001b[0m\u001b[0mNatural_after_NER\u001b[0m\u001b[1;33m)\u001b[0m\u001b[1;33m)\u001b[0m\u001b[1;33m\u001b[0m\u001b[1;33m\u001b[0m\u001b[0m\n\u001b[0;32m     18\u001b[0m   \u001b[0mSelect_Clause_Processed\u001b[0m\u001b[1;33m=\u001b[0m\u001b[1;33m[\u001b[0m\u001b[1;33m]\u001b[0m\u001b[1;33m\u001b[0m\u001b[1;33m\u001b[0m\u001b[0m\n",
      "\u001b[1;32md:\\Workspace\\Repository\\sql-nlp\\Code\\column.py\u001b[0m in \u001b[0;36mgive_column\u001b[1;34m(sen_without_ne)\u001b[0m\n\u001b[0;32m     32\u001b[0m         \u001b[1;31m#     print('error')\u001b[0m\u001b[1;33m\u001b[0m\u001b[1;33m\u001b[0m\u001b[1;33m\u001b[0m\u001b[0m\n\u001b[0;32m     33\u001b[0m     \u001b[0mz\u001b[0m\u001b[1;33m=\u001b[0m\u001b[1;33m[\u001b[0m\u001b[0mele\u001b[0m\u001b[1;33m[\u001b[0m\u001b[1;36m0\u001b[0m\u001b[1;33m]\u001b[0m \u001b[1;32mfor\u001b[0m \u001b[0mele\u001b[0m \u001b[1;32min\u001b[0m \u001b[0msorted\u001b[0m\u001b[1;33m(\u001b[0m\u001b[0ma\u001b[0m\u001b[1;33m,\u001b[0m\u001b[0mkey\u001b[0m\u001b[1;33m=\u001b[0m\u001b[1;32mlambda\u001b[0m \u001b[0mx\u001b[0m\u001b[1;33m:\u001b[0m\u001b[0mx\u001b[0m\u001b[1;33m[\u001b[0m\u001b[1;36m1\u001b[0m\u001b[1;33m]\u001b[0m\u001b[1;33m,\u001b[0m\u001b[0mreverse\u001b[0m\u001b[1;33m=\u001b[0m\u001b[1;36m1\u001b[0m\u001b[1;33m)\u001b[0m\u001b[1;33m]\u001b[0m\u001b[1;33m\u001b[0m\u001b[1;33m\u001b[0m\u001b[0m\n\u001b[1;32m---> 34\u001b[1;33m     \u001b[0mznew\u001b[0m\u001b[1;33m=\u001b[0m\u001b[1;33m[\u001b[0m\u001b[0mz\u001b[0m\u001b[1;33m[\u001b[0m\u001b[1;36m0\u001b[0m\u001b[1;33m]\u001b[0m\u001b[1;33m]\u001b[0m\u001b[1;33m\u001b[0m\u001b[1;33m\u001b[0m\u001b[0m\n\u001b[0m\u001b[0;32m     35\u001b[0m     \u001b[1;32mfor\u001b[0m \u001b[0mi\u001b[0m \u001b[1;32min\u001b[0m \u001b[0mrange\u001b[0m\u001b[1;33m(\u001b[0m\u001b[1;36m1\u001b[0m\u001b[1;33m,\u001b[0m\u001b[0mlen\u001b[0m\u001b[1;33m(\u001b[0m\u001b[0mz\u001b[0m\u001b[1;33m)\u001b[0m\u001b[1;33m)\u001b[0m\u001b[1;33m:\u001b[0m\u001b[1;33m\u001b[0m\u001b[1;33m\u001b[0m\u001b[0m\n\u001b[0;32m     36\u001b[0m         \u001b[1;32mif\u001b[0m \u001b[1;32mnot\u001b[0m \u001b[0mz\u001b[0m\u001b[1;33m[\u001b[0m\u001b[0mi\u001b[0m\u001b[1;33m]\u001b[0m \u001b[1;32min\u001b[0m \u001b[0mz\u001b[0m\u001b[1;33m[\u001b[0m\u001b[1;33m:\u001b[0m\u001b[0mi\u001b[0m\u001b[1;33m]\u001b[0m\u001b[1;33m:\u001b[0m\u001b[1;33m\u001b[0m\u001b[1;33m\u001b[0m\u001b[0m\n",
      "\u001b[1;31mIndexError\u001b[0m: list index out of range"
     ]
    }
   ],
   "source": [
    "nlp = \"How many total papers are published?\"\n",
    "sql = \"SELECT DISTINCT COUNT(*) FROM KeywordID_PaperID;\"\n",
    "\n",
    "NLP_TO_SQL_Pipeline(nlp, sql)"
   ]
  }
 ],
 "metadata": {
  "kernelspec": {
   "display_name": "Python 3.9.6 64-bit",
   "language": "python",
   "name": "python3"
  },
  "language_info": {
   "codemirror_mode": {
    "name": "ipython",
    "version": 3
   },
   "file_extension": ".py",
   "mimetype": "text/x-python",
   "name": "python",
   "nbconvert_exporter": "python",
   "pygments_lexer": "ipython3",
   "version": "3.9.6"
  },
  "vscode": {
   "interpreter": {
    "hash": "15b0f7c0327bc3a4a4e9cf399fe7d734dcb10d0bce3f7ceee96ebdab990e082a"
   }
  }
 },
 "nbformat": 4,
 "nbformat_minor": 2
}
