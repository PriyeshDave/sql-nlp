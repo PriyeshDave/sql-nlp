{
 "cells": [
  {
   "cell_type": "code",
   "execution_count": 19,
   "metadata": {},
   "outputs": [],
   "source": [
    "from NER import NER\n",
    "from Graph import from_query\n",
    "import pandas as pd\n",
    "import spacy\n",
    "from spacy import displacy\n",
    "from difflib import get_close_matches\n",
    "from column import give_column\n",
    "from isCount import isCount\n",
    "def remove_(select,where):\n",
    "    res=[ele if ele not in where else None for ele in select]\n",
    "    while(None in res):\n",
    "        res.remove(None)\n",
    "    return res\n",
    "Data_Final=pd.read_csv(\"Augmented_Non_Complex.csv\")\n",
    "Natural=Data_Final['Natural'][50:60]\n",
    "# Natural=[\"Display the authors who on the field Machine Translation and are from affiliate 'The MITRE Corporation'.\"]\n",
    "SQL=Data_Final['SQL'][50:60]\n",
    "# SQL=[\"SELECT DISTINCT COUNT(*) FROM AuthID_FieldID JOIN AuthID_Name ON AuthID_FieldID.AuthID=AuthID_Name.AuthID WHERE AuthID_FieldID.FieldID='Lexical Acquisition'\"\n",
    "Natural_after_NER=list(map(lambda x: NER(x)[1],Natural))\n",
    "Where_Clause=list(map(lambda x: NER(x)[0],Natural))\n",
    "# Where_ColName=list(map(lambda x: NER(x)[0][1],Natural))"
   ]
  },
  {
   "cell_type": "code",
   "execution_count": 20,
   "metadata": {},
   "outputs": [
    {
     "name": "stdout",
     "output_type": "stream",
     "text": [
      "SELECT DISTINCT COUNT(*) FROM KeywordID_PaperID\n",
      "SELECT DISTINCT KeywordID_PaperID.PaperID FROM KeywordID_PaperID WHERE KeywordID_PaperID.KeywordID='K-7325'\n"
     ]
    },
    {
     "ename": "IndexError",
     "evalue": "list index out of range",
     "output_type": "error",
     "traceback": [
      "\u001b[1;31m---------------------------------------------------------------------------\u001b[0m",
      "\u001b[1;31mIndexError\u001b[0m                                Traceback (most recent call last)",
      "\u001b[1;32m<ipython-input-20-8c5e2a4bb39c>\u001b[0m in \u001b[0;36m<module>\u001b[1;34m\u001b[0m\n\u001b[0;32m     25\u001b[0m             \u001b[1;32melse\u001b[0m\u001b[1;33m:\u001b[0m\u001b[1;33m\u001b[0m\u001b[1;33m\u001b[0m\u001b[0m\n\u001b[0;32m     26\u001b[0m     \u001b[1;31m#         print(Select_Clause_Processed[i][0],Where_Clause[i][0][0])\u001b[0m\u001b[1;33m\u001b[0m\u001b[1;33m\u001b[0m\u001b[1;33m\u001b[0m\u001b[0m\n\u001b[1;32m---> 27\u001b[1;33m                 \u001b[0mquery\u001b[0m\u001b[1;33m,\u001b[0m\u001b[0mfirst_table\u001b[0m\u001b[1;33m,\u001b[0m\u001b[0mlast_table\u001b[0m\u001b[1;33m=\u001b[0m\u001b[0mfrom_query\u001b[0m\u001b[1;33m(\u001b[0m\u001b[0mSelect_Clause_Processed\u001b[0m\u001b[1;33m[\u001b[0m\u001b[0mi\u001b[0m\u001b[1;33m]\u001b[0m\u001b[1;33m[\u001b[0m\u001b[1;36m0\u001b[0m\u001b[1;33m]\u001b[0m\u001b[1;33m,\u001b[0m\u001b[0mWhere_Clause\u001b[0m\u001b[1;33m[\u001b[0m\u001b[0mi\u001b[0m\u001b[1;33m]\u001b[0m\u001b[1;33m[\u001b[0m\u001b[1;36m0\u001b[0m\u001b[1;33m]\u001b[0m\u001b[1;33m[\u001b[0m\u001b[1;36m0\u001b[0m\u001b[1;33m]\u001b[0m\u001b[1;33m)\u001b[0m\u001b[1;33m\u001b[0m\u001b[1;33m\u001b[0m\u001b[0m\n\u001b[0m\u001b[0;32m     28\u001b[0m                 \u001b[0mprint\u001b[0m\u001b[1;33m(\u001b[0m\u001b[1;34m\"SELECT DISTINCT \"\u001b[0m\u001b[1;33m,\u001b[0m\u001b[0mfirst_table\u001b[0m\u001b[1;33m,\u001b[0m\u001b[1;34m\".\"\u001b[0m\u001b[1;33m,\u001b[0m\u001b[0mSelect_Clause_Processed\u001b[0m\u001b[1;33m[\u001b[0m\u001b[0mi\u001b[0m\u001b[1;33m]\u001b[0m\u001b[1;33m[\u001b[0m\u001b[1;36m0\u001b[0m\u001b[1;33m]\u001b[0m\u001b[1;33m,\u001b[0m\u001b[1;34m\" \"\u001b[0m\u001b[1;33m,\u001b[0m\u001b[0mquery\u001b[0m\u001b[1;33m,\u001b[0m\u001b[1;34m\" WHERE \"\u001b[0m\u001b[1;33m,\u001b[0m\u001b[0mlast_table\u001b[0m\u001b[1;33m+\u001b[0m\u001b[1;34m'.'\u001b[0m\u001b[1;33m+\u001b[0m\u001b[0mWhere_Clause\u001b[0m\u001b[1;33m[\u001b[0m\u001b[0mi\u001b[0m\u001b[1;33m]\u001b[0m\u001b[1;33m[\u001b[0m\u001b[1;36m0\u001b[0m\u001b[1;33m]\u001b[0m\u001b[1;33m[\u001b[0m\u001b[1;36m0\u001b[0m\u001b[1;33m]\u001b[0m\u001b[1;33m,\u001b[0m\u001b[1;34m\"=\"\u001b[0m\u001b[1;33m,\u001b[0m\u001b[1;34m\"'\"\u001b[0m\u001b[1;33m,\u001b[0m\u001b[0mWhere_Clause\u001b[0m\u001b[1;33m[\u001b[0m\u001b[0mi\u001b[0m\u001b[1;33m]\u001b[0m\u001b[1;33m[\u001b[0m\u001b[1;36m0\u001b[0m\u001b[1;33m]\u001b[0m\u001b[1;33m[\u001b[0m\u001b[1;36m1\u001b[0m\u001b[1;33m]\u001b[0m\u001b[1;33m,\u001b[0m\u001b[1;34m\"'\"\u001b[0m\u001b[1;33m,\u001b[0m\u001b[0msep\u001b[0m\u001b[1;33m=\u001b[0m\u001b[1;34m''\u001b[0m\u001b[1;33m)\u001b[0m\u001b[1;33m\u001b[0m\u001b[1;33m\u001b[0m\u001b[0m\n",
      "\u001b[1;32m~\\Documents\\natural-to-sql-master\\Code\\Graph.py\u001b[0m in \u001b[0;36mfrom_query\u001b[1;34m(start, end)\u001b[0m\n\u001b[0;32m    162\u001b[0m     \u001b[1;31m#printpath(path)\u001b[0m\u001b[1;33m\u001b[0m\u001b[1;33m\u001b[0m\u001b[1;33m\u001b[0m\u001b[0m\n\u001b[0;32m    163\u001b[0m     \u001b[1;31m#print(\"\")\u001b[0m\u001b[1;33m\u001b[0m\u001b[1;33m\u001b[0m\u001b[1;33m\u001b[0m\u001b[0m\n\u001b[1;32m--> 164\u001b[1;33m     \u001b[0mquery\u001b[0m\u001b[1;33m,\u001b[0m\u001b[0mfirst_table\u001b[0m\u001b[1;33m,\u001b[0m\u001b[0mlast_table\u001b[0m \u001b[1;33m=\u001b[0m \u001b[0mmake_join_query\u001b[0m\u001b[1;33m(\u001b[0m\u001b[0mpath\u001b[0m\u001b[1;33m)\u001b[0m\u001b[1;33m\u001b[0m\u001b[1;33m\u001b[0m\u001b[0m\n\u001b[0m\u001b[0;32m    165\u001b[0m     \u001b[1;31m#print(query)\u001b[0m\u001b[1;33m\u001b[0m\u001b[1;33m\u001b[0m\u001b[1;33m\u001b[0m\u001b[0m\n\u001b[0;32m    166\u001b[0m     \u001b[1;32mreturn\u001b[0m \u001b[0mquery\u001b[0m\u001b[1;33m,\u001b[0m\u001b[0mfirst_table\u001b[0m\u001b[1;33m,\u001b[0m\u001b[0mlast_table\u001b[0m\u001b[1;33m\u001b[0m\u001b[1;33m\u001b[0m\u001b[0m\n",
      "\u001b[1;32m~\\Documents\\natural-to-sql-master\\Code\\Graph.py\u001b[0m in \u001b[0;36mmake_join_query\u001b[1;34m(path)\u001b[0m\n\u001b[0;32m    129\u001b[0m     \u001b[1;31m# print(path)\u001b[0m\u001b[1;33m\u001b[0m\u001b[1;33m\u001b[0m\u001b[1;33m\u001b[0m\u001b[0m\n\u001b[0;32m    130\u001b[0m     \u001b[0mstring\u001b[0m \u001b[1;33m=\u001b[0m \u001b[1;34m\"FROM \"\u001b[0m\u001b[1;33m\u001b[0m\u001b[1;33m\u001b[0m\u001b[0m\n\u001b[1;32m--> 131\u001b[1;33m     \u001b[0mfirst_table\u001b[0m \u001b[1;33m=\u001b[0m \u001b[0mmain_dict\u001b[0m\u001b[1;33m[\u001b[0m\u001b[0mpath\u001b[0m\u001b[1;33m[\u001b[0m\u001b[1;36m0\u001b[0m\u001b[1;33m]\u001b[0m\u001b[1;33m]\u001b[0m\u001b[1;33m[\u001b[0m\u001b[1;36m0\u001b[0m\u001b[1;33m]\u001b[0m\u001b[1;33m\u001b[0m\u001b[1;33m\u001b[0m\u001b[0m\n\u001b[0m\u001b[0;32m    132\u001b[0m     \u001b[0mlast_table\u001b[0m \u001b[1;33m=\u001b[0m \u001b[0mmain_dict\u001b[0m\u001b[1;33m[\u001b[0m\u001b[0mpath\u001b[0m\u001b[1;33m[\u001b[0m\u001b[1;33m-\u001b[0m\u001b[1;36m1\u001b[0m\u001b[1;33m]\u001b[0m\u001b[1;33m]\u001b[0m\u001b[1;33m[\u001b[0m\u001b[1;36m0\u001b[0m\u001b[1;33m]\u001b[0m\u001b[1;33m\u001b[0m\u001b[1;33m\u001b[0m\u001b[0m\n\u001b[0;32m    133\u001b[0m \u001b[1;33m\u001b[0m\u001b[0m\n",
      "\u001b[1;31mIndexError\u001b[0m: list index out of range"
     ]
    }
   ],
   "source": [
    "Select_Clause=list(map(give_column,Natural_after_NER))\n",
    "Is_Count=list(map(isCount,Natural_after_NER))\n",
    "Select_Clause_Processed=[]\n",
    "for i in range(len(Select_Clause)):\n",
    "    if(Is_Count[i]):\n",
    "        if(Where_Clause[i]==[]):\n",
    "            Select_Clause_Processed.append(Select_Clause[i])\n",
    "            query,first_table,last_table=from_query(Select_Clause_Processed[i][0],Select_Clause_Processed[i][0])\n",
    "            print(\"SELECT DISTINCT COUNT(*) \",query,sep='')\n",
    "        else:\n",
    "            Select_Clause_Processed.append(remove_(Select_Clause[i],Where_Clause[i][0][0]))\n",
    "    #         print(Select_Clause_Processed[i][0],Where_Clause[i][0][0])\n",
    "            query,first_table,last_table=from_query(Select_Clause_Processed[i][0],Where_Clause[i][0][0])\n",
    "            print(\"SELECT DISTINCT COUNT(*) \",query,\" WHERE \",last_table+'.'+Where_Clause[i][0][0],\"=\",\"'\",Where_Clause[i][0][1],\"'\",sep='')\n",
    "    else:\n",
    "        if(Where_Clause[i]==[]):\n",
    "            Select_Clause_Processed.append(Select_Clause[i])\n",
    "            query,first_table,last_table=from_query(Select_Clause_Processed[i][0],Select_Clause_Processed[i][0])\n",
    "            print(\"SELECT DISTINCT \",first_table,\".\",Select_Clause_Processed[i][0],\" \",query,sep='')\n",
    "        else:\n",
    "            Select_Clause_Processed.append(remove_(Select_Clause[i],Where_Clause[i][0][0]))\n",
    "#             print(Select_Clause_Processed[i])\n",
    "            if(len(Select_Clause_Processed[i])==0):\n",
    "                print(\"Fuck\")\n",
    "            else:\n",
    "    #         print(Select_Clause_Processed[i][0],Where_Clause[i][0][0])\n",
    "                query,first_table,last_table=from_query(Select_Clause_Processed[i][0],Where_Clause[i][0][0])\n",
    "                print(\"SELECT DISTINCT \",first_table,\".\",Select_Clause_Processed[i][0],\" \",query,\" WHERE \",last_table+'.'+Where_Clause[i][0][0],\"=\",\"'\",Where_Clause[i][0][1],\"'\",sep='')"
   ]
  },
  {
   "cell_type": "code",
   "execution_count": 21,
   "metadata": {},
   "outputs": [
    {
     "data": {
      "text/plain": [
       "['SELECT DISTINCT COUNT(DISTINCT KeywordID_PaperID.KeywordID) FROM KeywordID_PaperID;',\n",
       " 'SELECT DISTINCT KeywordID_PaperID.PaperID FROM KeywordID_PaperID WHERE KeywordID_PaperID.KeywordID=K-7325;',\n",
       " \"SELECT DISTINCT AffiliationID_Place_Affiliation.Affiliate FROM AuthID_AffiliationID JOIN AuthID_Name ON AuthID_AffiliationID.AuthID=AuthID_Name.AuthID) JOIN AffiliationID_Place_Affiliation ON AffiliationID_Place_Affiliation.AffiliationID=AuthID_AffiliationID.AffiliationID WHERE AuthID_Name.Name='Masuyama, Shigeru';\",\n",
       " \"SELECT DISTINCT AuthID_Name.Name FROM AuthID_AffiliationID JOIN AuthID_Name ON AuthID_AffiliationID.AuthID=AuthID_Name.AuthID JOIN AffiliationID_Place_Affiliation ON AffiliationID_Place_Affiliation.AffiliationID=AuthID_AffiliationID.AffiliationID WHERE AffiliationID_Place_Affiliation.Affiliate='Lopresti';\",\n",
       " \"SELECT DISTINCT AuthID_Name.Name FROM AuthID_AffiliationID JOIN AuthID_Name ON AuthID_AffiliationID.AuthID=AuthID_Name.AuthID JOIN AffiliationID_Place_Affiliation ON AffiliationID_Place_Affiliation.AffiliationID=AuthID_AffiliationID.AffiliationID WHERE AffiliationID_Place_Affiliation.Place='Shihding Taiwan';\",\n",
       " \"SELECT DISTINCT AffiliationID_Place_Affiliation.Place FROM AuthID_AffiliationID JOIN AuthID_Name ON AuthID_AffiliationID.AuthID=AuthID_Name.AuthID JOIN AffiliationID_Place_Affiliation ON AffiliationID_Place_Affiliation.AffiliationID=AuthID_AffiliationID.AffiliationID WHERE AuthID_Name.Name='Mungi, Ashish';\",\n",
       " \"SELECT DISTINCT COUNT(DISTINCT AuthID_Name.Name) FROM AuthID_AffiliationID JOIN AuthID_Name ON AuthID_AffiliationID.AuthID=AuthID_Name.AuthID JOIN AffiliationID_Place_Affiliation ON AffiliationID_Place_Affiliation.AffiliationID=AuthID_AffiliationID.AffiliationID WHERE AffiliationID_Place_Affiliation.Place='Clayton Australia';\",\n",
       " \"SELECT DISTINCT FieldID_Topic.Topic FROM AuthID_AffiliationID JOIN AuthID_FieldID ON AuthID_AffiliationID.AuthID=AuthID_FieldID.AuthID JOIN FieldID_Topic ON AuthID_FieldID.FieldID=FieldID_Topic.FieldID JOIN AffiliationID_Place_Affiliation ON AffiliationID_Place_Affiliation.AffiliationID=AuthID_AffiliationID.AffiliationID WHERE AffiliationID_Place_Affiliation.Affiliate='Telecom Bretagne';\",\n",
       " \"SELECT DISTINCT AffiliationID_Place_Affiliation.Affiliate FROM AuthID_AffiliationID JOIN AuthID_FieldID ON AuthID_AffiliationID.AuthID=AuthID_FieldID.AuthID JOIN FieldID_Topic ON AuthID_FieldID.FieldID=FieldID_Topic.FieldID JOIN AffiliationID_Place_Affiliation ON AffiliationID_Place_Affiliation.AffiliationID=AuthID_AffiliationID.AffiliationID WHERE FieldID_Topic.Topic='Sentiment Analysis';\",\n",
       " \"SELECT DISTINCT FieldID_Topic.Topic FROM AuthID_AffiliationID JOIN AuthID_FieldID ON AuthID_AffiliationID.AuthID=AuthID_FieldID.AuthID JOIN FieldID_Topic ON AuthID_FieldID.FieldID=FieldID_Topic.FieldID JOIN AffiliationID_Place_Affiliation ON AffiliationID_Place_Affiliation.AffiliationID=AuthID_AffiliationID.AffiliationID WHERE AffiliationID_Place_Affiliation.Place='Villanova PA';\"]"
      ]
     },
     "execution_count": 21,
     "metadata": {},
     "output_type": "execute_result"
    }
   ],
   "source": [
    "list(SQL)"
   ]
  },
  {
   "cell_type": "code",
   "execution_count": 22,
   "metadata": {},
   "outputs": [
    {
     "data": {
      "text/plain": [
       "['How many unique keyword IDs are present ',\n",
       " 'Which papers have the keyword ID as ',\n",
       " 'List all the affiliation of the author  ',\n",
       " 'List all the authors of the affiliate  ',\n",
       " 'List all the authors from Shihding',\n",
       " 'Which place is author from ',\n",
       " 'How many authors are from Clayton ',\n",
       " 'What are the fields does the affiliate work on ',\n",
       " 'List the affiliates which work on the field ',\n",
       " 'What are the fields does the affiliates in the place Villanova PA work on ']"
      ]
     },
     "execution_count": 22,
     "metadata": {},
     "output_type": "execute_result"
    }
   ],
   "source": [
    "Natural_after_NER"
   ]
  },
  {
   "cell_type": "code",
   "execution_count": 23,
   "metadata": {},
   "outputs": [
    {
     "data": {
      "text/plain": [
       "[['KeywordID'],\n",
       " ['KeywordID', 'PaperID'],\n",
       " ['Affiliate', 'AuthID'],\n",
       " ['Affiliate', 'AuthID'],\n",
       " ['AuthID'],\n",
       " ['Place', 'AuthID'],\n",
       " ['AuthID'],\n",
       " ['Affiliate', 'FieldID'],\n",
       " ['Affiliate', 'FieldID'],\n",
       " ['Place', 'Affiliate', 'FieldID']]"
      ]
     },
     "execution_count": 23,
     "metadata": {},
     "output_type": "execute_result"
    }
   ],
   "source": [
    "Select_Clause"
   ]
  },
  {
   "cell_type": "code",
   "execution_count": 24,
   "metadata": {},
   "outputs": [
    {
     "data": {
      "text/plain": [
       "[[],\n",
       " [['KeywordID', 'K-7325']],\n",
       " [['Name', 'Masuyama, Shigeru']],\n",
       " [['Affiliate', 'Lopresti']],\n",
       " [['Place', 'Taiwan']],\n",
       " [['Name', 'Mungi, Ashish']],\n",
       " [['Place', 'Australia']],\n",
       " [['Affiliate', 'Telecom Bretagne']],\n",
       " [['Topic', 'Sentiment Analysis']],\n",
       " []]"
      ]
     },
     "execution_count": 24,
     "metadata": {},
     "output_type": "execute_result"
    }
   ],
   "source": [
    "Where_Clause"
   ]
  },
  {
   "cell_type": "code",
   "execution_count": 25,
   "metadata": {},
   "outputs": [
    {
     "data": {
      "text/plain": [
       "[['KeywordID'], ['PaperID'], ['Affiliate', 'AuthID']]"
      ]
     },
     "execution_count": 25,
     "metadata": {},
     "output_type": "execute_result"
    }
   ],
   "source": [
    "Select_Clause_Processed"
   ]
  },
  {
   "cell_type": "code",
   "execution_count": 26,
   "metadata": {},
   "outputs": [
    {
     "data": {
      "text/plain": [
       "['How many unique keyword IDs are present?',\n",
       " 'Which papers have the keyword ID as K-7325?',\n",
       " \"List all the affiliation of the author 'Masuyama, Shigeru'.\",\n",
       " \"List all the authors of the affiliate 'Lopresti'.\",\n",
       " 'List all the authors from Shihding Taiwan',\n",
       " \"Which place is author 'Mungi, Ashish' from?\",\n",
       " 'How many authors are from Clayton Australia?',\n",
       " \"What are the fields does the affiliate 'Telecom Bretagne' work on?\",\n",
       " \"List the affiliates which work on the field 'Sentiment Analysis'\",\n",
       " 'What are the fields does the affiliates in the place Villanova PA work on?']"
      ]
     },
     "execution_count": 26,
     "metadata": {},
     "output_type": "execute_result"
    }
   ],
   "source": [
    "list(Natural)"
   ]
  },
  {
   "cell_type": "code",
   "execution_count": 27,
   "metadata": {},
   "outputs": [
    {
     "data": {
      "text/plain": [
       "['ConfID']"
      ]
     },
     "execution_count": 27,
     "metadata": {},
     "output_type": "execute_result"
    }
   ],
   "source": [
    "give_column(\"Which conference was held at and in\")"
   ]
  },
  {
   "cell_type": "code",
   "execution_count": null,
   "metadata": {},
   "outputs": [],
   "source": []
  }
 ],
 "metadata": {
  "kernelspec": {
   "display_name": "Python 3",
   "language": "python",
   "name": "python3"
  },
  "language_info": {
   "codemirror_mode": {
    "name": "ipython",
    "version": 3
   },
   "file_extension": ".py",
   "mimetype": "text/x-python",
   "name": "python",
   "nbconvert_exporter": "python",
   "pygments_lexer": "ipython3",
   "version": "3.6.9"
  }
 },
 "nbformat": 4,
 "nbformat_minor": 2
}
