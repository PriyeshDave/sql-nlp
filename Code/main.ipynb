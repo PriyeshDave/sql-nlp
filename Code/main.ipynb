{
 "cells": [
  {
   "cell_type": "code",
   "execution_count": 16,
   "metadata": {},
   "outputs": [],
   "source": [
    "from NER import NER\n",
    "from Graph import from_query\n",
    "import pandas as pd\n",
    "import spacy\n",
    "from spacy import displacy\n",
    "from difflib import get_close_matches\n",
    "from column import give_column\n",
    "from isCount import isCount\n",
    "\n",
    "def remove_(select,where):\n",
    "    res=[ele if ele not in where else None for ele in select]\n",
    "    while(None in res):\n",
    "        res.remove(None)\n",
    "    return res\n",
    "\n",
    "Data_Final=pd.read_csv(\"Augmented_Non_Complex.csv\")\n",
    "\n",
    "Natural=Data_Final['Natural'][1]\n",
    "# Natural=[\"Display the authors who on the field Machine Translation and are from affiliate 'The MITRE Corporation'.\"]\n",
    "#Natural = [\"How many number of conference have been conducted in the field 'F-7'?\"]\n",
    "#Natural = [\"What is ID of author 'Mungi, Ashish'\"]\n",
    "\n",
    "\n",
    "SQL=Data_Final['SQL'][1]\n",
    "# SQL=[\"SELECT DISTINCT COUNT(*) FROM AuthID_FieldID JOIN AuthID_Name ON AuthID_FieldID.AuthID=AuthID_Name.AuthID WHERE AuthID_FieldID.FieldID='Lexical Acquisition'\"]\n",
    "#SQL = [\"SELECT DISTINCT COUNT(*) FROM ConfID_FieldID WHERE ConfID_FieldID.FieldID='F-7';\"]\n",
    "\n",
    "\n",
    "Natural_after_NER=list(map(lambda x: NER(x)[1],[Natural]))\n",
    "Where_Clause=list(map(lambda x: NER(x)[0],[Natural]))\n",
    "# Where_ColName=list(map(lambda x: NER(x)[0][1],Natural))"
   ]
  },
  {
   "cell_type": "markdown",
   "metadata": {},
   "source": [
    "### Predicting SQL Queries"
   ]
  },
  {
   "cell_type": "code",
   "execution_count": 17,
   "metadata": {},
   "outputs": [
    {
     "name": "stdout",
     "output_type": "stream",
     "text": [
      "Natural Language Statement:\n",
      "List all the authors IDs\n",
      "########################################################################\n",
      "Actual SQL Query:\n",
      "SELECT DISTINCT PaperID_AuthID.AuthID FROM PaperID_AuthID;\n",
      "########################################################################\n",
      "Predicted SQL query:\n",
      "SELECT DISTINCT AuthID_AffiliationID.AuthID FROM AuthID_AffiliationID\n"
     ]
    }
   ],
   "source": [
    "Select_Clause=list(map(give_column,Natural_after_NER))\n",
    "Is_Count=list(map(isCount,Natural_after_NER))\n",
    "Select_Clause_Processed=[]\n",
    "\n",
    "print('Natural Language Statement:')\n",
    "print(Natural)\n",
    "print(\"########################################################################\")\n",
    "\n",
    "print('Actual SQL Query:')\n",
    "print(SQL)\n",
    "print(\"########################################################################\")\n",
    "\n",
    "print('Predicted SQL query:')\n",
    "\n",
    "for i in range(len(Select_Clause)):\n",
    "    if(Is_Count[i]):\n",
    "        if(Where_Clause[i]==[]):\n",
    "            Select_Clause_Processed.append(Select_Clause[i])\n",
    "            query,first_table,last_table=from_query(Select_Clause_Processed[i][0],Select_Clause_Processed[i][0])\n",
    "            print(\"SELECT DISTINCT COUNT(*) \",query,sep='')\n",
    "        else:\n",
    "            Select_Clause_Processed.append(remove_(Select_Clause[i],Where_Clause[i][0][0]))\n",
    "    #         print(Select_Clause_Processed[i][0],Where_Clause[i][0][0])\n",
    "            query,first_table,last_table=from_query(Select_Clause_Processed[i][0],Where_Clause[i][0][0])\n",
    "            print(\"SELECT DISTINCT COUNT(*) \",query,\" WHERE \",last_table+'.'+Where_Clause[i][0][0],\"=\",\"'\",Where_Clause[i][0][1],\"'\",sep='')\n",
    "    else:\n",
    "        if(Where_Clause[i]==[]):\n",
    "            Select_Clause_Processed.append(Select_Clause[i])\n",
    "            query,first_table,last_table=from_query(Select_Clause_Processed[i][0],Select_Clause_Processed[i][0])\n",
    "            print(\"SELECT DISTINCT \",first_table,\".\",Select_Clause_Processed[i][0],\" \",query,sep='')\n",
    "        else:\n",
    "            Select_Clause_Processed.append(remove_(Select_Clause[i],Where_Clause[i][0][0]))\n",
    "#             print(Select_Clause_Processed[i])\n",
    "            if(len(Select_Clause_Processed[i])==0):\n",
    "                print(\"Fuck\")\n",
    "            else:\n",
    "    #         print(Select_Clause_Processed[i][0],Where_Clause[i][0][0])\n",
    "                query,first_table,last_table=from_query(Select_Clause_Processed[i][0],Where_Clause[i][0][0])\n",
    "                print(\"SELECT DISTINCT \",first_table,\".\",Select_Clause_Processed[i][0],\" \",query,\" WHERE \",last_table+'.'+Where_Clause[i][0][0],\"=\",\"'\",Where_Clause[i][0][1],\"'\",sep='')"
   ]
  },
  {
   "cell_type": "markdown",
   "metadata": {},
   "source": [
    "### Actual SQL Queries"
   ]
  },
  {
   "cell_type": "code",
   "execution_count": null,
   "metadata": {},
   "outputs": [
    {
     "data": {
      "text/plain": [
       "[\"SELECT DISTINCT COUNT(*) FROM ConfID_FieldID WHERE ConfID_FieldID.FieldID='F-7';\"]"
      ]
     },
     "execution_count": 66,
     "metadata": {},
     "output_type": "execute_result"
    }
   ],
   "source": [
    "list(SQL)"
   ]
  },
  {
   "cell_type": "markdown",
   "metadata": {},
   "source": [
    "### Natural Language Statement"
   ]
  },
  {
   "cell_type": "code",
   "execution_count": null,
   "metadata": {},
   "outputs": [
    {
     "data": {
      "text/plain": [
       "['How many number of conference have been conducted in the field  ']"
      ]
     },
     "execution_count": 67,
     "metadata": {},
     "output_type": "execute_result"
    }
   ],
   "source": [
    "Natural_after_NER"
   ]
  },
  {
   "cell_type": "markdown",
   "metadata": {},
   "source": [
    "### Task: Which columns to select "
   ]
  },
  {
   "cell_type": "code",
   "execution_count": null,
   "metadata": {},
   "outputs": [
    {
     "data": {
      "text/plain": [
       "[['FieldID', 'Name', 'ConfID']]"
      ]
     },
     "execution_count": 68,
     "metadata": {},
     "output_type": "execute_result"
    }
   ],
   "source": [
    "Select_Clause"
   ]
  },
  {
   "cell_type": "markdown",
   "metadata": {},
   "source": [
    "### Task: Predicting the where clause"
   ]
  },
  {
   "cell_type": "code",
   "execution_count": null,
   "metadata": {},
   "outputs": [
    {
     "data": {
      "text/plain": [
       "[[['FieldID', 'F-7']]]"
      ]
     },
     "execution_count": 69,
     "metadata": {},
     "output_type": "execute_result"
    }
   ],
   "source": [
    "Where_Clause"
   ]
  },
  {
   "cell_type": "code",
   "execution_count": null,
   "metadata": {},
   "outputs": [
    {
     "data": {
      "text/plain": [
       "[['Name', 'ConfID']]"
      ]
     },
     "execution_count": 70,
     "metadata": {},
     "output_type": "execute_result"
    }
   ],
   "source": [
    "Select_Clause_Processed"
   ]
  },
  {
   "cell_type": "code",
   "execution_count": null,
   "metadata": {},
   "outputs": [
    {
     "data": {
      "text/plain": [
       "[\"How many number of conference have been conducted in the field 'F-7'?\"]"
      ]
     },
     "execution_count": 71,
     "metadata": {},
     "output_type": "execute_result"
    }
   ],
   "source": [
    "list(Natural)"
   ]
  },
  {
   "cell_type": "code",
   "execution_count": null,
   "metadata": {},
   "outputs": [
    {
     "data": {
      "text/plain": [
       "['ConfID']"
      ]
     },
     "execution_count": 72,
     "metadata": {},
     "output_type": "execute_result"
    }
   ],
   "source": [
    "give_column(\"Which conference was held at and in\")"
   ]
  },
  {
   "cell_type": "markdown",
   "metadata": {},
   "source": [
    "### Prediction Pipeline"
   ]
  },
  {
   "cell_type": "code",
   "execution_count": 18,
   "metadata": {},
   "outputs": [],
   "source": [
    "def remove_(select,where):\n",
    "    res=[ele if ele not in where else None for ele in select]\n",
    "    while(None in res):\n",
    "        res.remove(None)\n",
    "    return res"
   ]
  },
  {
   "cell_type": "code",
   "execution_count": 19,
   "metadata": {},
   "outputs": [],
   "source": [
    "def NLP_TO_SQL_Pipeline(natural, sql):\n",
    "\n",
    "  print('Natural Language Statement:')\n",
    "  print(natural)\n",
    "  print(\"########################################################################\")\n",
    "\n",
    "  print('Actual SQL Query:')\n",
    "  print(sql)\n",
    "  print(\"########################################################################\")\n",
    "\n",
    "  print('Predicted SQL query:')\n",
    "\n",
    "  Natural_after_NER=list(map(lambda x: NER(x)[1],natural))\n",
    "  Where_Clause=list(map(lambda x: NER(x)[0],natural))\n",
    "\n",
    "  Select_Clause=list(map(give_column,Natural_after_NER))\n",
    "  Is_Count=list(map(isCount,Natural_after_NER))\n",
    "  Select_Clause_Processed=[]\n",
    "\n",
    "  for i in range(len(Select_Clause)):\n",
    "    if(Is_Count[i]):\n",
    "        if(Where_Clause[i]==[]):\n",
    "            Select_Clause_Processed.append(Select_Clause[i])\n",
    "            query,first_table,last_table=from_query(Select_Clause_Processed[i][0],Select_Clause_Processed[i][0])\n",
    "            print(\"SELECT DISTINCT COUNT(*) \",query,sep='')\n",
    "        else:\n",
    "            Select_Clause_Processed.append(remove_(Select_Clause[i],Where_Clause[i][0][0]))\n",
    "    #         print(Select_Clause_Processed[i][0],Where_Clause[i][0][0])\n",
    "            query,first_table,last_table=from_query(Select_Clause_Processed[i][0],Where_Clause[i][0][0])\n",
    "            print(\"SELECT DISTINCT COUNT(*) \",query,\" WHERE \",last_table+'.'+Where_Clause[i][0][0],\"=\",\"'\",Where_Clause[i][0][1],\"'\",sep='')\n",
    "    else:\n",
    "        if(Where_Clause[i]==[]):\n",
    "            Select_Clause_Processed.append(Select_Clause[i])\n",
    "            query,first_table,last_table=from_query(Select_Clause_Processed[i][0],Select_Clause_Processed[i][0])\n",
    "            print(\"SELECT DISTINCT \",first_table,\".\",Select_Clause_Processed[i][0],\" \",query,sep='')\n",
    "        else:\n",
    "            Select_Clause_Processed.append(remove_(Select_Clause[i],Where_Clause[i][0][0]))\n",
    "#             print(Select_Clause_Processed[i])\n",
    "            if(len(Select_Clause_Processed[i])==0):\n",
    "                print(\"Fuck\")\n",
    "            else:\n",
    "    #         print(Select_Clause_Processed[i][0],Where_Clause[i][0][0])\n",
    "                query,first_table,last_table=from_query(Select_Clause_Processed[i][0],Where_Clause[i][0][0])\n",
    "                print(\"SELECT DISTINCT \",first_table,\".\",Select_Clause_Processed[i][0],\" \",query,\" WHERE \",last_table+'.'+Where_Clause[i][0][0],\"=\",\"'\",Where_Clause[i][0][1],\"'\",sep='')"
   ]
  },
  {
   "cell_type": "code",
   "execution_count": 20,
   "metadata": {},
   "outputs": [
    {
     "name": "stdout",
     "output_type": "stream",
     "text": [
      "Natural Language Statement:\n",
      "['How many total papers are published?']\n",
      "########################################################################\n",
      "Actual SQL Query:\n",
      "['SELECT DISTINCT COUNT(*) FROM KeywordID_PaperID;']\n",
      "########################################################################\n",
      "Predicted SQL query:\n",
      "SELECT DISTINCT COUNT(*) FROM ConfID_PaperID\n"
     ]
    }
   ],
   "source": [
    "nlp = [\"How many total papers are published?\"]\n",
    "sql = [\"SELECT DISTINCT COUNT(*) FROM KeywordID_PaperID;\"]\n",
    "\n",
    "NLP_TO_SQL_Pipeline(nlp, sql)"
   ]
  }
 ],
 "metadata": {
  "kernelspec": {
   "display_name": "Python 3.9.6 64-bit",
   "language": "python",
   "name": "python3"
  },
  "language_info": {
   "codemirror_mode": {
    "name": "ipython",
    "version": 3
   },
   "file_extension": ".py",
   "mimetype": "text/x-python",
   "name": "python",
   "nbconvert_exporter": "python",
   "pygments_lexer": "ipython3",
   "version": "3.9.6"
  },
  "vscode": {
   "interpreter": {
    "hash": "15b0f7c0327bc3a4a4e9cf399fe7d734dcb10d0bce3f7ceee96ebdab990e082a"
   }
  }
 },
 "nbformat": 4,
 "nbformat_minor": 2
}
