{
 "cells": [
  {
   "cell_type": "code",
   "execution_count": 45,
   "metadata": {},
   "outputs": [],
   "source": [
    "import numpy as np\n",
    "from sklearn.model_selection import train_test_split\n",
    "import pandas as pd\n",
    "import string\n",
    "import re\n",
    "# from bert_serving.client import BertClient\n",
    "# bc = BertClient()\n",
    "Data_Final=pd.read_csv(\"/Users/prakash/Desktop/natural-to-sql/Final_Processed/Augmented.csv\")\n",
    "arr=[\"AffiliationID_Place_Affiliation.csv\",\"AuthID_AffiliationID.csv\",\"AuthID_FieldID.csv\",\"AuthID_Name.csv\"\n",
    "     ,\"ConfID_FieldID.csv\",\"ConfID_PaperID.csv\",\"ConfID_Venue_Year.csv\",\"FieldID_Topic.csv\",\"KeywordID_PaperID.csv\"\n",
    "     ,\"PaperID_AuthID.csv\",\"PaperID_FieldID.csv\",\"PaperID_Summary.csv\",\"PaperID_Title.csv\"]\n",
    "maping={}\n",
    "table={}\n",
    "for i in range(13):\n",
    "    data=pd.read_csv(\"/Users/prakash/Desktop/natural-to-sql/Dataset/\"+arr[i])\n",
    "    table[arr[i]]=data.columns\n",
    "    for val in data.columns:\n",
    "        if(val in maping):\n",
    "            maping[val]=list(set(data[val]).intersection(set(maping[val])))\n",
    "        else:\n",
    "            maping[val]=list(set(data[val]))\n",
    "    maping['NUM']=[str(i) for i in range(1000)]\n",
    "\n",
    "def NER(natural):\n",
    "    token=re.split('[,.?\\'\\'\\\" ]', natural)\n",
    "#     print(token)\n",
    "    colname_identity=[]\n",
    "    for ele in token:\n",
    "        for key in maping:\n",
    "            for value in maping[key]:\n",
    "                if(ele==value):\n",
    "                    colname_identity.append([key,ele])\n",
    "                    token.remove(ele)\n",
    "    processed_natural=\" \".join(token)\n",
    "    return (colname_identity,processed_natural)"
   ]
  }
 ],
 "metadata": {
  "kernelspec": {
   "display_name": "Python 3",
   "language": "python",
   "name": "python3"
  },
  "language_info": {
   "codemirror_mode": {
    "name": "ipython",
    "version": 3
   },
   "file_extension": ".py",
   "mimetype": "text/x-python",
   "name": "python",
   "nbconvert_exporter": "python",
   "pygments_lexer": "ipython3",
   "version": "3.7.4"
  }
 },
 "nbformat": 4,
 "nbformat_minor": 2
}
