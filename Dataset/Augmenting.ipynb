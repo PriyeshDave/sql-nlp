{
 "cells": [
  {
   "cell_type": "code",
   "execution_count": 3,
   "metadata": {},
   "outputs": [
    {
     "name": "stdout",
     "output_type": "stream",
     "text": [
      "0 AffiliationID_Place_Affiliation.csv\n",
      "1 AuthID_AffiliationID.csv\n",
      "2 AuthID_FieldID.csv\n",
      "3 AuthID_Name.csv\n",
      "4 ConfID_FieldID.csv\n",
      "5 ConfID_PaperID.csv\n",
      "6 ConfID_Venue_Year.csv\n",
      "7 FieldID_Topic.csv\n",
      "8 KeywordID_PaperID.csv\n",
      "9 PaperID_AuthID.csv\n",
      "10 PaperID_FieldID.csv\n",
      "11 PaperID_Summary.csv\n",
      "12 PaperID_Title.csv\n",
      "9 10 11 12\n"
     ]
    },
    {
     "data": {
      "text/html": [
       "<div>\n",
       "<style scoped>\n",
       "    .dataframe tbody tr th:only-of-type {\n",
       "        vertical-align: middle;\n",
       "    }\n",
       "\n",
       "    .dataframe tbody tr th {\n",
       "        vertical-align: top;\n",
       "    }\n",
       "\n",
       "    .dataframe thead th {\n",
       "        text-align: right;\n",
       "    }\n",
       "</style>\n",
       "<table border=\"1\" class=\"dataframe\">\n",
       "  <thead>\n",
       "    <tr style=\"text-align: right;\">\n",
       "      <th></th>\n",
       "      <th>Question [Natural]</th>\n",
       "      <th>SQL</th>\n",
       "    </tr>\n",
       "  </thead>\n",
       "  <tbody>\n",
       "    <tr>\n",
       "      <th>0</th>\n",
       "      <td>List all the papers</td>\n",
       "      <td>SELECT PaperID FROM PaperID_AuthID</td>\n",
       "    </tr>\n",
       "    <tr>\n",
       "      <th>1</th>\n",
       "      <td>List all the authors</td>\n",
       "      <td>SELECT DISTINCT AuthID FROM PaperID_AuthID</td>\n",
       "    </tr>\n",
       "    <tr>\n",
       "      <th>2</th>\n",
       "      <td>List all the papers which are written by autho...</td>\n",
       "      <td>SELECT PaperID FROM PaperID_AuthID WHERE AuthI...</td>\n",
       "    </tr>\n",
       "    <tr>\n",
       "      <th>3</th>\n",
       "      <td>What are the papers written by $AuthID$?</td>\n",
       "      <td>SELECT PaperID FROM PaperID_AuthID WHERE AuthI...</td>\n",
       "    </tr>\n",
       "    <tr>\n",
       "      <th>4</th>\n",
       "      <td>How many papers are written by $AuthID$?</td>\n",
       "      <td>SELECT COUNT(PaperID) FROM PaperID_AuthID WHER...</td>\n",
       "    </tr>\n",
       "  </tbody>\n",
       "</table>\n",
       "</div>"
      ],
      "text/plain": [
       "                                  Question [Natural]  \\\n",
       "0                                List all the papers   \n",
       "1                               List all the authors   \n",
       "2  List all the papers which are written by autho...   \n",
       "3           What are the papers written by $AuthID$?   \n",
       "4           How many papers are written by $AuthID$?   \n",
       "\n",
       "                                                 SQL  \n",
       "0                 SELECT PaperID FROM PaperID_AuthID  \n",
       "1         SELECT DISTINCT AuthID FROM PaperID_AuthID  \n",
       "2  SELECT PaperID FROM PaperID_AuthID WHERE AuthI...  \n",
       "3  SELECT PaperID FROM PaperID_AuthID WHERE AuthI...  \n",
       "4  SELECT COUNT(PaperID) FROM PaperID_AuthID WHER...  "
      ]
     },
     "execution_count": 3,
     "metadata": {},
     "output_type": "execute_result"
    }
   ],
   "source": [
    "import pandas as pd\n",
    "import random\n",
    "arr=[\"AffiliationID_Place_Affiliation.csv\",\"AuthID_AffiliationID.csv\",\"AuthID_FieldID.csv\",\"AuthID_Name.csv\"\n",
    "     ,\"ConfID_FieldID.csv\",\"ConfID_PaperID.csv\",\"ConfID_Venue_Year.csv\",\"FieldID_Topic.csv\",\"KeywordID_PaperID.csv\"\n",
    "     ,\"PaperID_AuthID.csv\",\"PaperID_FieldID.csv\",\"PaperID_Summary.csv\",\"PaperID_Title.csv\"]\n",
    "for i in range(len(arr)):\n",
    "    print(i,arr[i])\n",
    "in_=list(map(int,input().split()))\n",
    "data_in=pd.read_csv(\"Rohit_Dataset.csv\")\n",
    "data_in.head()"
   ]
  },
  {
   "cell_type": "code",
   "execution_count": 4,
   "metadata": {},
   "outputs": [],
   "source": [
    "maping={}\n",
    "for i in in_:\n",
    "    data=pd.read_csv(arr[i])\n",
    "    for val in data.columns:\n",
    "        if(val in maping):\n",
    "            maping[val]=list(set(data[val]).intersection(set(maping[val])))\n",
    "        else:\n",
    "            maping[val]=list(set(data[val]))\n",
    "#User defined PlaceHolders\n",
    "maping['X']=[str(random.randrange(100,350,1)) for i in range(10)]\n",
    "maping['Y']=[str(random.randrange(10,50,1)) for i in range(10)]"
   ]
  },
  {
   "cell_type": "code",
   "execution_count": 5,
   "metadata": {},
   "outputs": [
    {
     "data": {
      "text/html": [
       "<div>\n",
       "<style scoped>\n",
       "    .dataframe tbody tr th:only-of-type {\n",
       "        vertical-align: middle;\n",
       "    }\n",
       "\n",
       "    .dataframe tbody tr th {\n",
       "        vertical-align: top;\n",
       "    }\n",
       "\n",
       "    .dataframe thead th {\n",
       "        text-align: right;\n",
       "    }\n",
       "</style>\n",
       "<table border=\"1\" class=\"dataframe\">\n",
       "  <thead>\n",
       "    <tr style=\"text-align: right;\">\n",
       "      <th></th>\n",
       "      <th>Column ID</th>\n",
       "      <th>No of Unique Element</th>\n",
       "    </tr>\n",
       "  </thead>\n",
       "  <tbody>\n",
       "    <tr>\n",
       "      <th>0</th>\n",
       "      <td>PaperID</td>\n",
       "      <td>21084</td>\n",
       "    </tr>\n",
       "    <tr>\n",
       "      <th>1</th>\n",
       "      <td>AuthID</td>\n",
       "      <td>18337</td>\n",
       "    </tr>\n",
       "    <tr>\n",
       "      <th>2</th>\n",
       "      <td>FieldID</td>\n",
       "      <td>15</td>\n",
       "    </tr>\n",
       "    <tr>\n",
       "      <th>3</th>\n",
       "      <td>Summary</td>\n",
       "      <td>21639</td>\n",
       "    </tr>\n",
       "    <tr>\n",
       "      <th>4</th>\n",
       "      <td>Title</td>\n",
       "      <td>23437</td>\n",
       "    </tr>\n",
       "    <tr>\n",
       "      <th>5</th>\n",
       "      <td>X</td>\n",
       "      <td>10</td>\n",
       "    </tr>\n",
       "    <tr>\n",
       "      <th>6</th>\n",
       "      <td>Y</td>\n",
       "      <td>10</td>\n",
       "    </tr>\n",
       "  </tbody>\n",
       "</table>\n",
       "</div>"
      ],
      "text/plain": [
       "  Column ID  No of Unique Element\n",
       "0   PaperID                 21084\n",
       "1    AuthID                 18337\n",
       "2   FieldID                    15\n",
       "3   Summary                 21639\n",
       "4     Title                 23437\n",
       "5         X                    10\n",
       "6         Y                    10"
      ]
     },
     "execution_count": 5,
     "metadata": {},
     "output_type": "execute_result"
    }
   ],
   "source": [
    "temp1=[]\n",
    "temp2=[]\n",
    "for i in maping:\n",
    "    temp1.append(i)\n",
    "    temp2.append(len(maping[i]))\n",
    "uni_map=pd.DataFrame({'Column ID': temp1,'No of Unique Element': temp2})\n",
    "uni_map"
   ]
  },
  {
   "cell_type": "code",
   "execution_count": 6,
   "metadata": {},
   "outputs": [
    {
     "name": "stdout",
     "output_type": "stream",
     "text": [
      "0 Not Replaced ['List all the papers']\n",
      "1 Not Replaced ['List all the authors']\n",
      "12 Not Replaced ['List all the Field IDs.']\n",
      "16 Not Replaced ['List all the summaries of all the papers ']\n",
      "19 Not Replaced ['List titles of all the papers']\n",
      "20 Not Replaced ['List titles of all the papers with corresponding paperID']\n"
     ]
    }
   ],
   "source": [
    "natural=[]\n",
    "sql_=[]\n",
    "def func(val):\n",
    "    if(val<50):\n",
    "        return val//2\n",
    "    elif(val<200):\n",
    "        return val//5\n",
    "    while(val>50):\n",
    "        val=val//2\n",
    "    return val\n",
    "for i in range(data_in.shape[0]):\n",
    "    sig=\"NULL\"\n",
    "    nat=data_in.iloc[i][\"Question [Natural]\"].split(\"$\")\n",
    "    nal_=nat.copy()\n",
    "    sql=data_in.iloc[i][\"SQL\"].split(\"$\")\n",
    "    sq_=sql.copy()\n",
    "    if(len(nat)==1 and len(sql)==1):\n",
    "        print(i,\"Not Replaced\",nat)\n",
    "    else:\n",
    "        if nat[1] in maping:\n",
    "            if(len(nat[2])>=1):\n",
    "                if(nat[2][0]==\"^\"):\n",
    "                    sig=\"BEGIN\"\n",
    "                elif(nat[2][0]==\"&\"):\n",
    "                    sig=\"CENTER\"\n",
    "            if(sig==\"NULL\"):\n",
    "                temp=[random.randrange(0,len(maping[nat[1]]), 1) for k in range(func(len(maping[nat[1]])))]\n",
    "                for j in temp:\n",
    "                    nal_[1]=maping[nat[1]][j]\n",
    "                    sq_[1]=maping[nat[1]][j]\n",
    "                    natural.append(\"\".join(nal_))\n",
    "                    sql_.append(\"\".join(sq_))\n",
    "            elif(sig==\"BEGIN\"):\n",
    "                nal_[2]=nal_[2][1:]\n",
    "                sq_[2]=sq_[2][1:]\n",
    "                temp=[random.randrange(0,len(maping[nat[1]]), 1) for k in range(func(len(maping[nat[1]])))]\n",
    "                for j in temp:\n",
    "                    ran=random.randrange(1,len(maping[nat[1]][j])-1, 1)\n",
    "                    nal_[1]=maping[nat[1]][j][:ran]\n",
    "                    sq_[1]=maping[nat[1]][j][:ran]\n",
    "                    natural.append(\"\".join(nal_))\n",
    "                    sql_.append(\"\".join(sq_))\n",
    "            elif(sig==\"CENTER\"):\n",
    "                nal_[2]=nal_[2][1:]\n",
    "                sq_[2]=sq_[2][1:]\n",
    "                temp=[random.randrange(0,len(maping[nat[1]]), 1) for k in range(func(len(maping[nat[1]])))]\n",
    "                for j in temp:\n",
    "                    sat=random.randrange(1,len(maping[nat[1]][j])//2, 1)\n",
    "                    end=random.randrange(len(maping[nat[1]][j])//2,len(maping[nat[1]][j])-1, 1)\n",
    "                    nal_[1]=maping[nat[1]][j][sat:end]\n",
    "                    sq_[1]=maping[nat[1]][j][sat:end]\n",
    "                    natural.append(\"\".join(nal_))\n",
    "                    sql_.append(\"\".join(sq_))\n",
    "#             print(i)\n",
    "final=pd.DataFrame({'Natural': natural,'SQL': sql_})\n",
    "final.to_csv(\"NPL-Augmented.csv\")"
   ]
  },
  {
   "cell_type": "code",
   "execution_count": 136,
   "metadata": {},
   "outputs": [
    {
     "name": "stdout",
     "output_type": "stream",
     "text": [
      "Success\n"
     ]
    }
   ],
   "source": [
    "print(\"Success\")"
   ]
  }
 ],
 "metadata": {
  "kernelspec": {
   "display_name": "Python 3",
   "language": "python",
   "name": "python3"
  },
  "language_info": {
   "codemirror_mode": {
    "name": "ipython",
    "version": 3
   },
   "file_extension": ".py",
   "mimetype": "text/x-python",
   "name": "python",
   "nbconvert_exporter": "python",
   "pygments_lexer": "ipython3",
   "version": "3.6.5"
  }
 },
 "nbformat": 4,
 "nbformat_minor": 2
}
