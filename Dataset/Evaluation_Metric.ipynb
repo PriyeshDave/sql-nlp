{
 "cells": [
  {
   "cell_type": "code",
   "execution_count": 10,
   "metadata": {},
   "outputs": [],
   "source": [
    "from sqlout import sql_output\n",
    "#sql1 -> Actual\n",
    "#sql2 -> Prediction\n",
    "def compare(sql1,sql2):\n",
    "    out1_names,out1_rows=sql_output(sql1)\n",
    "    out2_names,out2_rows=sql_output(sql2)\n",
    "    print(out1_names,out2_names)\n",
    "    count_=0\n",
    "    for ele in out2_names:\n",
    "        if ele in out1_names:\n",
    "            count_+=1\n",
    "    relative=count_/len(out2_names)\n",
    "    relative_rows=1-(abs(len(out1_rows)-len(out2_rows))/len(out1_rows))\n",
    "    return relative*relative_rows*100"
   ]
  },
  {
   "cell_type": "code",
   "execution_count": 11,
   "metadata": {},
   "outputs": [
    {
     "name": "stdout",
     "output_type": "stream",
     "text": [
      "['PaperID'] ['PaperID', 'AuthID']\n"
     ]
    },
    {
     "data": {
      "text/plain": [
       "50.0"
      ]
     },
     "execution_count": 11,
     "metadata": {},
     "output_type": "execute_result"
    }
   ],
   "source": [
    "compare(\"SELECT PaperID_AuthID.PaperID FROM PaperID_AuthID;\",\"SELECT PaperID_AuthID.PaperID,PaperID_AuthID.AuthID FROM PaperID_AuthID;\")"
   ]
  },
  {
   "cell_type": "code",
   "execution_count": null,
   "metadata": {},
   "outputs": [],
   "source": []
  }
 ],
 "metadata": {
  "kernelspec": {
   "display_name": "Python 3",
   "language": "python",
   "name": "python3"
  },
  "language_info": {
   "codemirror_mode": {
    "name": "ipython",
    "version": 3
   },
   "file_extension": ".py",
   "mimetype": "text/x-python",
   "name": "python",
   "nbconvert_exporter": "python",
   "pygments_lexer": "ipython3",
   "version": "3.7.4"
  }
 },
 "nbformat": 4,
 "nbformat_minor": 2
}
